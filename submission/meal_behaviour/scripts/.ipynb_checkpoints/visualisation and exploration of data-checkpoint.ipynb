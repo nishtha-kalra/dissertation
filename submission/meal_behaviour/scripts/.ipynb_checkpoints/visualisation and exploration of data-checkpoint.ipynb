{
 "cells": [
  {
   "cell_type": "code",
   "execution_count": 1,
   "metadata": {},
   "outputs": [],
   "source": [
    "# loading required libraries\n",
    "import numpy as np\n",
    "import pandas as pd\n",
    "import matplotlib.pyplot as plt\n",
    "data = pd.read_sas('DR1IFF_I.XPT')"
   ]
  },
  {
   "cell_type": "markdown",
   "metadata": {},
   "source": [
    "### Data cleaning"
   ]
  },
  {
   "cell_type": "code",
   "execution_count": 2,
   "metadata": {},
   "outputs": [],
   "source": [
    "data = data.dropna()\n",
    "data = data.sort_values(by=['DR1_020'])\n",
    "data['DR1_020'] = data['DR1_020']/3600\n",
    "data.drop(data[data.DR1ICARB < 5e-20].index, inplace=True)\n",
    "data.drop(data[data.DR1_020 < 1e-20].index, inplace=True)"
   ]
  },
  {
   "cell_type": "markdown",
   "metadata": {},
   "source": [
    "### Time vs CHO"
   ]
  },
  {
   "cell_type": "code",
   "execution_count": 3,
   "metadata": {},
   "outputs": [],
   "source": [
    "X = data[data.SEQN == 83732]\n",
    "X = X[['SEQN', 'DR1ICARB', 'DR1_020']].copy()"
   ]
  },
  {
   "cell_type": "code",
   "execution_count": 4,
   "metadata": {},
   "outputs": [
    {
     "data": {
      "image/png": "[encoded data removed]",
      "text/plain": [
       "<Figure size 432x288 with 1 Axes>"
      ]
     },
     "metadata": {
      "needs_background": "light"
     },
     "output_type": "display_data"
    }
   ],
   "source": [
    "plt.plot(X.DR1_020, X.DR1ICARB)\n",
    "plt.xlabel('Time in hours')\n",
    "plt.ylabel('CHO in gm')\n",
    "plt.savefig('timevscho.png')"
   ]
  },
  {
   "cell_type": "markdown",
   "metadata": {},
   "source": [
    "### Relation between CHO and days of week"
   ]
  },
  {
   "cell_type": "code",
   "execution_count": 5,
   "metadata": {},
   "outputs": [],
   "source": [
    "data = data.dropna()\n",
    "X = data[['SEQN', 'DR1_020', 'DR1DAY', 'DR1ICARB']].copy()"
   ]
  },
  {
   "cell_type": "code",
   "execution_count": 6,
   "metadata": {},
   "outputs": [],
   "source": [
    "sun = 0\n",
    "mon = 0\n",
    "tue = 0\n",
    "wed = 0\n",
    "thu = 0\n",
    "fri = 0\n",
    "sat = 0\n",
    "sunc = 0\n",
    "monc = 0\n",
    "tuec = 0\n",
    "wedc = 0\n",
    "thuc = 0\n",
    "fric = 0\n",
    "satc = 0"
   ]
  },
  {
   "cell_type": "code",
   "execution_count": 7,
   "metadata": {},
   "outputs": [],
   "source": [
    "for row, value in X.iterrows():\n",
    "    if value['DR1DAY'] == 1.0:\n",
    "        sunc += 1\n",
    "        sun = sun + value['DR1ICARB']\n",
    "    if value['DR1DAY'] == 2.0:\n",
    "        monc += 1\n",
    "        mon = mon + value['DR1ICARB']\n",
    "    if value['DR1DAY'] == 3.0:\n",
    "        tuec += 1\n",
    "        tue = tue + value['DR1ICARB']\n",
    "    if value['DR1DAY'] == 4.0:\n",
    "        wedc += 1\n",
    "        wed = wed + value['DR1ICARB']\n",
    "    if value['DR1DAY'] == 5.0:\n",
    "        thuc += 1\n",
    "        thu = thu + value['DR1ICARB']\n",
    "    if value['DR1DAY'] == 6.0:\n",
    "        fric += 1\n",
    "        fri = fri + value['DR1ICARB']\n",
    "    if value['DR1DAY'] == 7.0:\n",
    "        satc += 1\n",
    "        sat = sat + value['DR1ICARB']"
   ]
  },
  {
   "cell_type": "code",
   "execution_count": 8,
   "metadata": {},
   "outputs": [],
   "source": [
    "week1 = ['sun', 'mon', 'tue', 'wed', 'thu', 'fri', 'sat']\n",
    "week = [sun/sunc, mon/monc, tue/tuec, wed/wedc, thu/thuc, fri/fric, sat/satc]"
   ]
  },
  {
   "cell_type": "code",
   "execution_count": 9,
   "metadata": {},
   "outputs": [
    {
     "data": {
      "text/plain": [
       "<function matplotlib.pyplot.show(*args, **kw)>"
      ]
     },
     "execution_count": 9,
     "metadata": {},
     "output_type": "execute_result"
    },
    {
     "data": {
      "image/png": "[encoded data removed]",
      "text/plain": [
       "<Figure size 432x288 with 1 Axes>"
      ]
     },
     "metadata": {
      "needs_background": "light"
     },
     "output_type": "display_data"
    }
   ],
   "source": [
    "plt.bar(np.arange(len(week1)), week)\n",
    "plt.xticks(np.arange(len(week1)), week1)\n",
    "plt.ylabel('average CHO level in gm')\n",
    "plt.show\n",
    "plt.savefig('dayvscho.png')"
   ]
  },
  {
   "cell_type": "markdown",
   "metadata": {},
   "source": [
    "People generally take high CHO diet on Sunday, Friday and Saturday."
   ]
  },
  {
   "cell_type": "markdown",
   "metadata": {},
   "source": [
    "### Relation between CHO and Language respondent used mostly"
   ]
  },
  {
   "cell_type": "code",
   "execution_count": 10,
   "metadata": {},
   "outputs": [],
   "source": [
    "lang = data[['SEQN', 'DR1_020', 'DR1LANG', 'DR1ICARB']].copy()"
   ]
  },
  {
   "cell_type": "code",
   "execution_count": 11,
   "metadata": {},
   "outputs": [],
   "source": [
    "English = 0\n",
    "Spanish = 0\n",
    "EnglishandSpanish = 0\n",
    "Other = 0\n",
    "Asian = 0\n",
    "AsianandEnglish = 0\n",
    "Englishc = 0\n",
    "Spanishc = 0\n",
    "EnglishandSpanishc = 0\n",
    "Otherc = 0\n",
    "Asianc = 0\n",
    "AsianandEnglishc = 0"
   ]
  },
  {
   "cell_type": "code",
   "execution_count": 12,
   "metadata": {},
   "outputs": [],
   "source": [
    "for row, value in lang.iterrows():\n",
    "    if value['DR1LANG'] == 1.0:\n",
    "        Englishc += 1\n",
    "        English = English + value['DR1ICARB']\n",
    "    if value['DR1LANG'] == 2.0:\n",
    "        Spanishc += 1\n",
    "        Spanish = Spanish + value['DR1ICARB']\n",
    "    if value['DR1LANG'] == 3.0:\n",
    "        EnglishandSpanishc += 1\n",
    "        EnglishandSpanish = EnglishandSpanish + value['DR1ICARB']\n",
    "    if value['DR1LANG'] == 4.0:\n",
    "        Otherc += 1\n",
    "        Other = Other + value['DR1ICARB']\n",
    "    if value['DR1LANG'] == 5.0:\n",
    "        Asianc += 1\n",
    "        Asian = Asian + value['DR1ICARB']\n",
    "    if value['DR1LANG'] == 6.0:\n",
    "        AsianandEnglishc += 1\n",
    "        AsianandEnglish = AsianandEnglish + value['DR1ICARB']"
   ]
  },
  {
   "cell_type": "code",
   "execution_count": 13,
   "metadata": {},
   "outputs": [],
   "source": [
    "langc = ['English', 'Spanish', 'English\\n and Spanish', 'Other', 'Asian', 'Asian\\n and English']\n",
    "lang = [English/Englishc, Spanish/Spanishc, EnglishandSpanish/EnglishandSpanishc, Other/Otherc, Asian/Asianc, AsianandEnglish/AsianandEnglishc]"
   ]
  },
  {
   "cell_type": "code",
   "execution_count": 14,
   "metadata": {},
   "outputs": [
    {
     "data": {
      "text/plain": [
       "Text(0, 0.5, 'average CHO level in gm')"
      ]
     },
     "execution_count": 14,
     "metadata": {},
     "output_type": "execute_result"
    },
    {
     "data": {
      "image/png": "[encoded data removed]",
      "text/plain": [
       "<Figure size 432x288 with 1 Axes>"
      ]
     },
     "metadata": {
      "needs_background": "light"
     },
     "output_type": "display_data"
    }
   ],
   "source": [
    "plt.bar(np.arange(len(langc)), lang)\n",
    "plt.xticks(np.arange(len(langc)), langc)\n",
    "plt.ylabel('average CHO level in gm')\n",
    "plt.savefig('langvscho.png')"
   ]
  },
  {
   "cell_type": "markdown",
   "metadata": {},
   "source": [
    "People speaking English and Spanish consume most Carbohydrates while people sepaking Asian languages consume least Carbohydrates"
   ]
  },
  {
   "cell_type": "markdown",
   "metadata": {},
   "source": [
    "### Relation between CHO level and Combination food type "
   ]
  },
  {
   "cell_type": "code",
   "execution_count": 15,
   "metadata": {},
   "outputs": [],
   "source": [
    "food = data[['SEQN', 'DR1_020', 'DR1CCMTX', 'DR1ICARB']].copy()"
   ]
  },
  {
   "cell_type": "code",
   "execution_count": 16,
   "metadata": {},
   "outputs": [],
   "source": [
    "fooddict = {\n",
    "    1 : { 'name' : 'beverage', 'count' : 0, 'cho' : 0},\n",
    "    2 : { 'name' : 'cereal', 'count' : 0, 'cho' : 0},\n",
    "    3 : { 'name' : 'bread', 'count' : 0, 'cho' : 0},\n",
    "    4 : { 'name' : 'salad', 'count' : 0, 'cho' : 0},\n",
    "    5 : { 'name' : 'sandwich', 'count' : 0, 'cho' : 0}, \n",
    "    6 : { 'name' : 'soup', 'count' : 0, 'cho' : 0},\n",
    "    7 : { 'name' : 'frozen', 'count' : 0, 'cho' : 0},\n",
    "    8 : { 'name' : 'icecream', 'count' : 0, 'cho' : 0},\n",
    "    9 : { 'name' : 'driedbean', 'count' : 0, 'cho' : 0},\n",
    "    10 : { 'name' : 'fruit', 'count' : 0, 'cho' : 0},\n",
    "    11 : { 'name' : 'tortilla', 'count' : 0, 'cho' : 0},\n",
    "    12 : { 'name' : 'meat', 'count' : 0, 'cho' : 0},\n",
    "    13 : { 'name' : 'luncables', 'count' : 0, 'cho' : 0},\n",
    "    14 : { 'name' : 'chips', 'count' : 0, 'cho' : 0}\n",
    "}"
   ]
  },
  {
   "cell_type": "code",
   "execution_count": 17,
   "metadata": {},
   "outputs": [],
   "source": [
    "for key in fooddict.keys():\n",
    "    for row, value in food.iterrows():\n",
    "        if value['DR1CCMTX'] == key:\n",
    "            fooddict[key]['count'] += 1\n",
    "            fooddict[key]['cho'] += value['DR1ICARB']"
   ]
  },
  {
   "cell_type": "code",
   "execution_count": 18,
   "metadata": {},
   "outputs": [],
   "source": [
    "foodnames = []\n",
    "foodcho = []\n",
    "for key in fooddict:\n",
    "    foodnames.append(fooddict[key]['name'])\n",
    "    foodcho.append(fooddict[key]['cho']/fooddict[key]['count'])"
   ]
  },
  {
   "cell_type": "code",
   "execution_count": 19,
   "metadata": {
    "scrolled": false
   },
   "outputs": [
    {
     "data": {
      "text/plain": [
       "Text(0, 0.5, 'average CHO level in gm')"
      ]
     },
     "execution_count": 19,
     "metadata": {},
     "output_type": "execute_result"
    },
    {
     "data": {
      "image/png": "[encoded data removed]",
      "text/plain": [
       "<Figure size 1080x720 with 1 Axes>"
      ]
     },
     "metadata": {
      "needs_background": "light"
     },
     "output_type": "display_data"
    }
   ],
   "source": [
    "fig_size = plt.rcParams[\"figure.figsize\"]\n",
    "fig_size[0] = 15\n",
    "fig_size[1] = 10\n",
    "plt.rcParams[\"figure.figsize\"] = fig_size\n",
    "plt.bar(np.arange(len(foodnames)), foodcho)\n",
    "plt.xticks(np.arange(len(foodnames)), foodnames)\n",
    "plt.ylabel('average CHO level in gm')\n",
    "plt.savefig('foodvscho.png')"
   ]
  },
  {
   "cell_type": "markdown",
   "metadata": {},
   "source": [
    "### Relation of CHO with DR2_030Z - Name of eating occasion"
   ]
  },
  {
   "cell_type": "code",
   "execution_count": 20,
   "metadata": {},
   "outputs": [],
   "source": [
    "occasion = data[['DR1_030Z', 'DR1ICARB']].copy()"
   ]
  },
  {
   "cell_type": "code",
   "execution_count": 21,
   "metadata": {},
   "outputs": [],
   "source": [
    "occasiondict = {\n",
    "    1 : { 'name' : 'Breakfast\\nDesayano', 'count' : 0, 'cho' : 0},\n",
    "    2 : { 'name' : 'Lunch\\nAlmuerzo\\nCena', 'count' : 0, 'cho' : 0},\n",
    "    3 : { 'name' : 'Dinner', 'count' : 0, 'cho' : 0},\n",
    "    6 : { 'name' : 'Snack\\nMerienda\\nBotana\\nBocadillo\\nTentempie', 'count' : 0, 'cho' : 0},\n",
    "    7 : { 'name' : 'Drink\\nBebida', 'count' : 0, 'cho' : 0},\n",
    "}"
   ]
  },
  {
   "cell_type": "markdown",
   "metadata": {},
   "source": [
    "Merging keys of spanish words with english words"
   ]
  },
  {
   "cell_type": "code",
   "execution_count": 22,
   "metadata": {},
   "outputs": [],
   "source": [
    "for row, value in data.iterrows():\n",
    "    if value['DR1_030Z'] == 10:\n",
    "        value['DR1_030Z'] = 1\n",
    "    elif value['DR1_030Z'] == 11 or value['DR1_030Z'] == 12 or value['DR1_030Z'] == 5:\n",
    "        value['DR1_030Z'] = 2\n",
    "    elif value['DR1_030Z'] == 14:\n",
    "        value['DR1_030Z'] = 3\n",
    "    elif value['DR1_030Z'] == 4 or value['DR1_030Z'] == 9 or value['DR1_030Z'] == 13 or value['DR1_030Z'] == 15 or value['DR1_030Z'] == 16 or value['DR1_030Z'] == 17 or value['DR1_030Z'] == 18:\n",
    "        value['DR1_030Z'] = 6\n",
    "    elif value['DR1_030Z'] == 19:\n",
    "        value['DR1_030Z'] = 7"
   ]
  },
  {
   "cell_type": "markdown",
   "metadata": {},
   "source": [
    "Calculating count and carbohydrate level of each eating occasion"
   ]
  },
  {
   "cell_type": "code",
   "execution_count": 23,
   "metadata": {},
   "outputs": [],
   "source": [
    "for key in occasiondict.keys():\n",
    "    for row, value in occasion.iterrows():\n",
    "        if value['DR1_030Z'] == key:\n",
    "            occasiondict[key]['count'] += 1\n",
    "            occasiondict[key]['cho'] += value['DR1ICARB']"
   ]
  },
  {
   "cell_type": "markdown",
   "metadata": {},
   "source": [
    "Creating list of names of occasion of food and average CHO level of each food ocassion"
   ]
  },
  {
   "cell_type": "code",
   "execution_count": 24,
   "metadata": {},
   "outputs": [],
   "source": [
    "occasionnames = []\n",
    "occasioncho = []\n",
    "for key in occasiondict: \n",
    "    occasionnames.append(occasiondict[key]['name'])\n",
    "    occasioncho.append(occasiondict[key]['cho']/occasiondict[key]['count'])"
   ]
  },
  {
   "cell_type": "code",
   "execution_count": 25,
   "metadata": {},
   "outputs": [
    {
     "data": {
      "text/plain": [
       "Text(0, 0.5, 'average CHO level in gm')"
      ]
     },
     "execution_count": 25,
     "metadata": {},
     "output_type": "execute_result"
    },
    {
     "data": {
      "image/png": "[encoded data removed]",
      "text/plain": [
       "<Figure size 720x360 with 1 Axes>"
      ]
     },
     "metadata": {
      "needs_background": "light"
     },
     "output_type": "display_data"
    }
   ],
   "source": [
    "fig_size[0] = 10\n",
    "fig_size[1] = 5\n",
    "plt.rcParams[\"figure.figsize\"] = fig_size\n",
    "plt.bar(np.arange(len(occasionnames)), occasioncho)\n",
    "plt.xticks(np.arange(len(occasionnames)), occasionnames)\n",
    "plt.ylabel('average CHO level in gm')\n",
    "plt.savefig('occasionvscho.png')"
   ]
  },
  {
   "cell_type": "markdown",
   "metadata": {},
   "source": [
    "### Relation between CHO levels and DR2_040Z - Did you eat this meal at home?"
   ]
  },
  {
   "cell_type": "code",
   "execution_count": 26,
   "metadata": {},
   "outputs": [],
   "source": [
    "athome = data[['DR1_040Z', 'DR1ICARB']].copy()"
   ]
  },
  {
   "cell_type": "code",
   "execution_count": 27,
   "metadata": {},
   "outputs": [],
   "source": [
    "yes = 0\n",
    "no = 0\n",
    "yesc = 0\n",
    "noc = 0\n",
    "for row, value in athome.iterrows():\n",
    "    if value['DR1_040Z'] == 1.0:\n",
    "        yesc += 1\n",
    "        yes = yes + value['DR1ICARB']\n",
    "    if value['DR1_040Z'] == 2.0:\n",
    "        noc += 1\n",
    "        no = no + value['DR1ICARB']"
   ]
  },
  {
   "cell_type": "code",
   "execution_count": 28,
   "metadata": {},
   "outputs": [
    {
     "data": {
      "image/png": "[encoded data removed]",
      "text/plain": [
       "<Figure size 720x360 with 1 Axes>"
      ]
     },
     "metadata": {
      "needs_background": "light"
     },
     "output_type": "display_data"
    }
   ],
   "source": [
    "plt.bar([0,1], [yes/yesc,no/noc])\n",
    "plt.xticks(np.arange(2), ['at home', 'not at home'])\n",
    "plt.ylabel(\"Average CHO levels in gm\")\n",
    "plt.savefig('homevscho.png')"
   ]
  },
  {
   "cell_type": "markdown",
   "metadata": {},
   "source": [
    "Food not cosumed at home has more carbohydrates"
   ]
  },
  {
   "cell_type": "code",
   "execution_count": null,
   "metadata": {},
   "outputs": [],
   "source": []
  }
 ],
 "metadata": {
  "kernelspec": {
   "display_name": "Python 3",
   "language": "python",
   "name": "python3"
  },
  "language_info": {
   "codemirror_mode": {
    "name": "ipython",
    "version": 3
   },
   "file_extension": ".py",
   "mimetype": "text/x-python",
   "name": "python",
   "nbconvert_exporter": "python",
   "pygments_lexer": "ipython3",
   "version": "3.7.0"
  }
 },
 "nbformat": 4,
 "nbformat_minor": 2
}
