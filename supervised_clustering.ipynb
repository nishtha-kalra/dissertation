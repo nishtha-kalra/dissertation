{
 "cells": [
  {
   "cell_type": "markdown",
   "metadata": {},
   "source": [
    "### Preparing data"
   ]
  },
  {
   "cell_type": "code",
   "execution_count": 1,
   "metadata": {},
   "outputs": [],
   "source": [
    "import matplotlib.pyplot as plt\n",
    "import numpy as np\n",
    "import pandas as pd\n",
    "from datetime import timedelta"
   ]
  },
  {
   "cell_type": "code",
   "execution_count": 2,
   "metadata": {},
   "outputs": [],
   "source": [
    "data1 = pd.read_csv('meal.csv')\n",
    "data1 = data1.dropna()"
   ]
  },
  {
   "cell_type": "code",
   "execution_count": 3,
   "metadata": {},
   "outputs": [],
   "source": [
    "data2 = pd.read_sas('DR2IFF_I.XPT')\n",
    "data2 = data2.dropna()"
   ]
  },
  {
   "cell_type": "markdown",
   "metadata": {},
   "source": [
    "### Considering eating occasion (DR1_030Z)"
   ]
  },
  {
   "cell_type": "code",
   "execution_count": 4,
   "metadata": {},
   "outputs": [],
   "source": [
    "day1 = data1[['DR1_020', 'DR1ICARB', 'DR1_030Z']].copy()\n",
    "day2 = data2[['DR2_020', 'DR2ICARB', 'DR2_030Z']].copy()"
   ]
  },
  {
   "cell_type": "code",
   "execution_count": 5,
   "metadata": {},
   "outputs": [],
   "source": [
    "day2.columns = ['time', 'CHO', 'occasion']\n",
    "day1.columns = ['time', 'CHO', 'occasion']"
   ]
  },
  {
   "cell_type": "code",
   "execution_count": 6,
   "metadata": {},
   "outputs": [],
   "source": [
    "total = pd.concat([day1, day2])"
   ]
  },
  {
   "cell_type": "code",
   "execution_count": 7,
   "metadata": {},
   "outputs": [],
   "source": [
    "occasiondict = {\n",
    "    1 : { 'name' : 'Breakfast\\nDesayano', 'count' : 0, 'cho' : 0},\n",
    "    2 : { 'name' : 'Lunch\\nAlmuerzo\\nCena', 'count' : 0, 'cho' : 0},\n",
    "    3 : { 'name' : 'Dinner', 'count' : 0, 'cho' : 0},\n",
    "    4 : { 'name' : 'Supper', 'count' : 0, 'cho' : 0},\n",
    "    5 : { 'name' : 'Brunch', 'count' : 0, 'cho' : 0},\n",
    "    6 : { 'name' : 'Snack\\nMerienda\\nBotana\\nBocadillo\\nTentempie', 'count' : 0, 'cho' : 0},\n",
    "    7 : { 'name' : 'Drink\\nBebida', 'count' : 0, 'cho' : 0},\n",
    "    8 : { 'name' : 'Infant feeding', 'count' : 0, 'cho' : 0},\n",
    "    9 : { 'name' : 'Extended consumption\\nEntre comida', 'count' : 0, 'cho' : 0},\n",
    "}"
   ]
  },
  {
   "cell_type": "code",
   "execution_count": 8,
   "metadata": {},
   "outputs": [],
   "source": [
    "for row, value in total.iterrows():\n",
    "    if value['occasion'] == 10:\n",
    "        value['occasion'] = 1\n",
    "    elif value['occasion'] == 11 or value['occasion'] == 14 or value['occasion'] == 12:\n",
    "        value['occasion'] = 2\n",
    "    elif value['occasion'] == 13 or value['occasion'] == 16 or value['occasion'] == 17 or value['occasion'] == 18:\n",
    "        value['occasion'] = 6\n",
    "    elif value['occasion'] == 19:\n",
    "        value['occasion'] = 7\n",
    "    elif value['occasion'] == 15:\n",
    "        value['occasion'] = 9"
   ]
  },
  {
   "cell_type": "code",
   "execution_count": 9,
   "metadata": {},
   "outputs": [],
   "source": [
    "for key in occasiondict.keys():\n",
    "    for row, value in total.iterrows():\n",
    "        if value['occasion'] == key:\n",
    "            occasiondict[key]['count'] += 1\n",
    "            occasiondict[key]['cho'] += value['CHO']"
   ]
  },
  {
   "cell_type": "code",
   "execution_count": 10,
   "metadata": {},
   "outputs": [],
   "source": [
    "occasionnames = []\n",
    "occasioncho = []\n",
    "for key in occasiondict: \n",
    "    occasionnames.append(occasiondict[key]['name'])\n",
    "    occasioncho.append(occasiondict[key]['cho']/occasiondict[key]['count'])"
   ]
  },
  {
   "cell_type": "code",
   "execution_count": 11,
   "metadata": {},
   "outputs": [
    {
     "data": {
      "image/png": "[encoded data removed]",
      "text/plain": [
       "<Figure size 1440x720 with 1 Axes>"
      ]
     },
     "metadata": {
      "needs_background": "light"
     },
     "output_type": "display_data"
    }
   ],
   "source": [
    "fig_size = plt.rcParams[\"figure.figsize\"]\n",
    "fig_size[0] = 20\n",
    "fig_size[1] = 10\n",
    "plt.rcParams[\"figure.figsize\"] = fig_size\n",
    "plt.bar(np.arange(len(occasionnames)), occasioncho)\n",
    "plt.xticks(np.arange(len(occasionnames)), occasionnames)\n",
    "plt.ylabel('average CHO level')\n",
    "fig_size[0] = 20\n",
    "fig_size[1] = 10\n",
    "plt.rcParams[\"figure.figsize\"] = fig_size"
   ]
  },
  {
   "cell_type": "code",
   "execution_count": 12,
   "metadata": {},
   "outputs": [
    {
     "data": {
      "text/plain": [
       "'Snack\\nMerienda\\nBotana\\nBocadillo\\nTentempie'"
      ]
     },
     "execution_count": 12,
     "metadata": {},
     "output_type": "execute_result"
    }
   ],
   "source": [
    "occasionnames[occasioncho.index(max(occasioncho))]"
   ]
  },
  {
   "cell_type": "code",
   "execution_count": 13,
   "metadata": {},
   "outputs": [
    {
     "data": {
      "text/plain": [
       "{1: {'name': 'Breakfast\\nDesayano', 'count': 42592, 'cho': 674850.9599999961},\n",
       " 2: {'name': 'Lunch\\nAlmuerzo\\nCena',\n",
       "  'count': 53509,\n",
       "  'cho': 941158.9600000129},\n",
       " 3: {'name': 'Dinner', 'count': 41146, 'cho': 770939.4100000007},\n",
       " 4: {'name': 'Supper', 'count': 9369, 'cho': 170285.26999999955},\n",
       " 5: {'name': 'Brunch', 'count': 1550, 'cho': 26124.58000000002},\n",
       " 6: {'name': 'Snack\\nMerienda\\nBotana\\nBocadillo\\nTentempie',\n",
       "  'count': 35190,\n",
       "  'cho': 662414.2299999926},\n",
       " 7: {'name': 'Drink\\nBebida', 'count': 9506, 'cho': 98489.29999999961},\n",
       " 8: {'name': 'Infant feeding', 'count': 4129, 'cho': 38467.91999999995},\n",
       " 9: {'name': 'Extended consumption\\nEntre comida',\n",
       "  'count': 3541,\n",
       "  'cho': 60039.62999999992}}"
      ]
     },
     "execution_count": 13,
     "metadata": {},
     "output_type": "execute_result"
    }
   ],
   "source": [
    "occasiondict"
   ]
  },
  {
   "cell_type": "code",
   "execution_count": 14,
   "metadata": {},
   "outputs": [
    {
     "name": "stdout",
     "output_type": "stream",
     "text": [
      "[1. 7. 6. 2. 4. 3. 9. 5. 8.]\n"
     ]
    }
   ],
   "source": [
    "print(total['occasion'].unique())"
   ]
  },
  {
   "cell_type": "markdown",
   "metadata": {},
   "source": [
    "### Manual Clustering"
   ]
  },
  {
   "cell_type": "code",
   "execution_count": 15,
   "metadata": {},
   "outputs": [],
   "source": [
    "breakfastdf = total[total['occasion'] == 1]"
   ]
  },
  {
   "cell_type": "code",
   "execution_count": 16,
   "metadata": {},
   "outputs": [
    {
     "data": {
      "text/plain": [
       "(42592, 3)"
      ]
     },
     "execution_count": 16,
     "metadata": {},
     "output_type": "execute_result"
    }
   ],
   "source": [
    "breakfastdf.shape"
   ]
  },
  {
   "cell_type": "code",
   "execution_count": 17,
   "metadata": {},
   "outputs": [],
   "source": [
    "lunchdf = total[total['occasion'] == 2]"
   ]
  },
  {
   "cell_type": "code",
   "execution_count": 18,
   "metadata": {},
   "outputs": [
    {
     "data": {
      "text/plain": [
       "(53509, 3)"
      ]
     },
     "execution_count": 18,
     "metadata": {},
     "output_type": "execute_result"
    }
   ],
   "source": [
    "lunchdf.shape"
   ]
  },
  {
   "cell_type": "code",
   "execution_count": 19,
   "metadata": {},
   "outputs": [],
   "source": [
    "dinnerdf = total[total['occasion'] == 3]"
   ]
  },
  {
   "cell_type": "code",
   "execution_count": 20,
   "metadata": {},
   "outputs": [
    {
     "data": {
      "text/plain": [
       "(41146, 3)"
      ]
     },
     "execution_count": 20,
     "metadata": {},
     "output_type": "execute_result"
    }
   ],
   "source": [
    "dinnerdf.shape"
   ]
  },
  {
   "cell_type": "code",
   "execution_count": 21,
   "metadata": {},
   "outputs": [],
   "source": [
    "supperdf = total[total['occasion'] == 4]"
   ]
  },
  {
   "cell_type": "code",
   "execution_count": 22,
   "metadata": {},
   "outputs": [
    {
     "data": {
      "text/plain": [
       "(9369, 3)"
      ]
     },
     "execution_count": 22,
     "metadata": {},
     "output_type": "execute_result"
    }
   ],
   "source": [
    "supperdf.shape"
   ]
  },
  {
   "cell_type": "code",
   "execution_count": 23,
   "metadata": {},
   "outputs": [],
   "source": [
    "brunchdf = total[total['occasion'] == 5]"
   ]
  },
  {
   "cell_type": "code",
   "execution_count": 24,
   "metadata": {},
   "outputs": [
    {
     "data": {
      "text/plain": [
       "(1550, 3)"
      ]
     },
     "execution_count": 24,
     "metadata": {},
     "output_type": "execute_result"
    }
   ],
   "source": [
    "brunchdf.shape"
   ]
  },
  {
   "cell_type": "code",
   "execution_count": 25,
   "metadata": {},
   "outputs": [],
   "source": [
    "snackdf = total[total['occasion'] == 6]"
   ]
  },
  {
   "cell_type": "code",
   "execution_count": 26,
   "metadata": {},
   "outputs": [
    {
     "data": {
      "text/plain": [
       "(35190, 3)"
      ]
     },
     "execution_count": 26,
     "metadata": {},
     "output_type": "execute_result"
    }
   ],
   "source": [
    "snackdf.shape"
   ]
  },
  {
   "cell_type": "code",
   "execution_count": 27,
   "metadata": {},
   "outputs": [],
   "source": [
    "drinkdf = total[total['occasion'] == 7]"
   ]
  },
  {
   "cell_type": "code",
   "execution_count": 28,
   "metadata": {},
   "outputs": [
    {
     "data": {
      "text/plain": [
       "(9506, 3)"
      ]
     },
     "execution_count": 28,
     "metadata": {},
     "output_type": "execute_result"
    }
   ],
   "source": [
    "drinkdf.shape"
   ]
  },
  {
   "cell_type": "code",
   "execution_count": 29,
   "metadata": {},
   "outputs": [],
   "source": [
    "infantdf = total[total['occasion'] == 8]"
   ]
  },
  {
   "cell_type": "code",
   "execution_count": 30,
   "metadata": {},
   "outputs": [
    {
     "data": {
      "text/plain": [
       "(4129, 3)"
      ]
     },
     "execution_count": 30,
     "metadata": {},
     "output_type": "execute_result"
    }
   ],
   "source": [
    "infantdf.shape"
   ]
  },
  {
   "cell_type": "code",
   "execution_count": 31,
   "metadata": {},
   "outputs": [],
   "source": [
    "extendeddf = total[total['occasion'] == 9]"
   ]
  },
  {
   "cell_type": "code",
   "execution_count": 32,
   "metadata": {},
   "outputs": [
    {
     "data": {
      "text/plain": [
       "(3541, 3)"
      ]
     },
     "execution_count": 32,
     "metadata": {},
     "output_type": "execute_result"
    }
   ],
   "source": [
    "extendeddf.shape"
   ]
  },
  {
   "cell_type": "markdown",
   "metadata": {},
   "source": [
    "### Prediction"
   ]
  },
  {
   "cell_type": "code",
   "execution_count": 33,
   "metadata": {},
   "outputs": [],
   "source": [
    "from sklearn.model_selection import train_test_split\n",
    "from sklearn.linear_model import LinearRegression\n",
    "from sklearn.metrics import r2_score\n",
    "\n",
    "first_row = pd.DataFrame({'time': 0, 'CHO': 0}, index =[0])\n",
    "\n",
    "def prepare_data(cluster_name):\n",
    "    cluster_name = cluster_name.sort_values(by=['time'])\n",
    "    cluster_name = cluster_name.drop(['occasion'], axis=1)\n",
    "    cluster_name = pd.concat([first_row, cluster_name]).reset_index(drop = True)\n",
    "    cluster_name = cluster_name.append({'time': 0, 'CHO': 0} , ignore_index=True)\n",
    "    X = cluster_name[0:(len(cluster_name)-1)]\n",
    "    y = cluster_name[1:(len(cluster_name))]\n",
    "    X_train,X_test,y_train,y_test = train_test_split(X,y,random_state=0)\n",
    "    tup = (X_train, X_test, y_train, y_test)\n",
    "    return (tup)\n",
    "\n",
    "def regression(X_train, X_test, y_train, y_test):\n",
    "    lr = LinearRegression().fit(X_train,y_train)\n",
    "    train_score = lr.score(X_train, y_train)*100\n",
    "    test_score = lr.score(X_test, y_test)*100\n",
    "    y_pred = lr.predict(X_test)\n",
    "    r_score = r2_score(y_test, y_pred)*100\n",
    "    tup_score = (train_score, test_score, r_score)\n",
    "    return (tup_score)"
   ]
  },
  {
   "cell_type": "markdown",
   "metadata": {},
   "source": [
    "#### On breakfast"
   ]
  },
  {
   "cell_type": "code",
   "execution_count": 38,
   "metadata": {
    "scrolled": true
   },
   "outputs": [
    {
     "data": {
      "text/html": [
       "<div>\n",
       "<style scoped>\n",
       "    .dataframe tbody tr th:only-of-type {\n",
       "        vertical-align: middle;\n",
       "    }\n",
       "\n",
       "    .dataframe tbody tr th {\n",
       "        vertical-align: top;\n",
       "    }\n",
       "\n",
       "    .dataframe thead th {\n",
       "        text-align: right;\n",
       "    }\n",
       "</style>\n",
       "<table border=\"1\" class=\"dataframe\">\n",
       "  <thead>\n",
       "    <tr style=\"text-align: right;\">\n",
       "      <th></th>\n",
       "      <th>time</th>\n",
       "      <th>CHO</th>\n",
       "      <th>occasion</th>\n",
       "    </tr>\n",
       "  </thead>\n",
       "  <tbody>\n",
       "    <tr>\n",
       "      <th>0</th>\n",
       "      <td>27000.0</td>\n",
       "      <td>5.397605e-79</td>\n",
       "      <td>1.0</td>\n",
       "    </tr>\n",
       "    <tr>\n",
       "      <th>1</th>\n",
       "      <td>27000.0</td>\n",
       "      <td>3.560000e+00</td>\n",
       "      <td>1.0</td>\n",
       "    </tr>\n",
       "    <tr>\n",
       "      <th>2</th>\n",
       "      <td>27000.0</td>\n",
       "      <td>2.320000e+00</td>\n",
       "      <td>1.0</td>\n",
       "    </tr>\n",
       "    <tr>\n",
       "      <th>4</th>\n",
       "      <td>32400.0</td>\n",
       "      <td>4.088000e+01</td>\n",
       "      <td>1.0</td>\n",
       "    </tr>\n",
       "    <tr>\n",
       "      <th>5</th>\n",
       "      <td>32400.0</td>\n",
       "      <td>2.500000e-01</td>\n",
       "      <td>1.0</td>\n",
       "    </tr>\n",
       "    <tr>\n",
       "      <th>25</th>\n",
       "      <td>32400.0</td>\n",
       "      <td>7.200000e-01</td>\n",
       "      <td>1.0</td>\n",
       "    </tr>\n",
       "    <tr>\n",
       "      <th>26</th>\n",
       "      <td>32400.0</td>\n",
       "      <td>9.900000e-01</td>\n",
       "      <td>1.0</td>\n",
       "    </tr>\n",
       "    <tr>\n",
       "      <th>27</th>\n",
       "      <td>32400.0</td>\n",
       "      <td>5.397605e-79</td>\n",
       "      <td>1.0</td>\n",
       "    </tr>\n",
       "    <tr>\n",
       "      <th>28</th>\n",
       "      <td>32400.0</td>\n",
       "      <td>6.970000e+00</td>\n",
       "      <td>1.0</td>\n",
       "    </tr>\n",
       "    <tr>\n",
       "      <th>29</th>\n",
       "      <td>32400.0</td>\n",
       "      <td>2.612000e+01</td>\n",
       "      <td>1.0</td>\n",
       "    </tr>\n",
       "    <tr>\n",
       "      <th>30</th>\n",
       "      <td>32400.0</td>\n",
       "      <td>1.600000e-01</td>\n",
       "      <td>1.0</td>\n",
       "    </tr>\n",
       "    <tr>\n",
       "      <th>72</th>\n",
       "      <td>30600.0</td>\n",
       "      <td>1.353000e+01</td>\n",
       "      <td>1.0</td>\n",
       "    </tr>\n",
       "    <tr>\n",
       "      <th>73</th>\n",
       "      <td>30600.0</td>\n",
       "      <td>4.390000e+00</td>\n",
       "      <td>1.0</td>\n",
       "    </tr>\n",
       "    <tr>\n",
       "      <th>83</th>\n",
       "      <td>30600.0</td>\n",
       "      <td>1.660000e+00</td>\n",
       "      <td>1.0</td>\n",
       "    </tr>\n",
       "    <tr>\n",
       "      <th>84</th>\n",
       "      <td>30600.0</td>\n",
       "      <td>1.936000e+01</td>\n",
       "      <td>1.0</td>\n",
       "    </tr>\n",
       "    <tr>\n",
       "      <th>85</th>\n",
       "      <td>30600.0</td>\n",
       "      <td>6.600000e+00</td>\n",
       "      <td>1.0</td>\n",
       "    </tr>\n",
       "    <tr>\n",
       "      <th>86</th>\n",
       "      <td>30600.0</td>\n",
       "      <td>5.397605e-79</td>\n",
       "      <td>1.0</td>\n",
       "    </tr>\n",
       "    <tr>\n",
       "      <th>116</th>\n",
       "      <td>36000.0</td>\n",
       "      <td>2.635000e+01</td>\n",
       "      <td>1.0</td>\n",
       "    </tr>\n",
       "    <tr>\n",
       "      <th>117</th>\n",
       "      <td>36000.0</td>\n",
       "      <td>4.570000e+00</td>\n",
       "      <td>1.0</td>\n",
       "    </tr>\n",
       "    <tr>\n",
       "      <th>118</th>\n",
       "      <td>36000.0</td>\n",
       "      <td>3.500000e-01</td>\n",
       "      <td>1.0</td>\n",
       "    </tr>\n",
       "    <tr>\n",
       "      <th>119</th>\n",
       "      <td>36000.0</td>\n",
       "      <td>2.700000e-01</td>\n",
       "      <td>1.0</td>\n",
       "    </tr>\n",
       "    <tr>\n",
       "      <th>120</th>\n",
       "      <td>36000.0</td>\n",
       "      <td>5.397605e-79</td>\n",
       "      <td>1.0</td>\n",
       "    </tr>\n",
       "    <tr>\n",
       "      <th>121</th>\n",
       "      <td>36000.0</td>\n",
       "      <td>1.710000e+00</td>\n",
       "      <td>1.0</td>\n",
       "    </tr>\n",
       "    <tr>\n",
       "      <th>122</th>\n",
       "      <td>36000.0</td>\n",
       "      <td>4.170000e+00</td>\n",
       "      <td>1.0</td>\n",
       "    </tr>\n",
       "    <tr>\n",
       "      <th>123</th>\n",
       "      <td>36000.0</td>\n",
       "      <td>1.789000e+01</td>\n",
       "      <td>1.0</td>\n",
       "    </tr>\n",
       "    <tr>\n",
       "      <th>136</th>\n",
       "      <td>32400.0</td>\n",
       "      <td>4.680000e+00</td>\n",
       "      <td>1.0</td>\n",
       "    </tr>\n",
       "    <tr>\n",
       "      <th>137</th>\n",
       "      <td>32400.0</td>\n",
       "      <td>5.397605e-79</td>\n",
       "      <td>1.0</td>\n",
       "    </tr>\n",
       "    <tr>\n",
       "      <th>153</th>\n",
       "      <td>32400.0</td>\n",
       "      <td>2.270000e+00</td>\n",
       "      <td>1.0</td>\n",
       "    </tr>\n",
       "    <tr>\n",
       "      <th>154</th>\n",
       "      <td>32400.0</td>\n",
       "      <td>1.250000e+01</td>\n",
       "      <td>1.0</td>\n",
       "    </tr>\n",
       "    <tr>\n",
       "      <th>164</th>\n",
       "      <td>36000.0</td>\n",
       "      <td>6.125000e+01</td>\n",
       "      <td>1.0</td>\n",
       "    </tr>\n",
       "    <tr>\n",
       "      <th>...</th>\n",
       "      <td>...</td>\n",
       "      <td>...</td>\n",
       "      <td>...</td>\n",
       "    </tr>\n",
       "    <tr>\n",
       "      <th>100521</th>\n",
       "      <td>27000.0</td>\n",
       "      <td>5.397605e-79</td>\n",
       "      <td>1.0</td>\n",
       "    </tr>\n",
       "    <tr>\n",
       "      <th>100534</th>\n",
       "      <td>30600.0</td>\n",
       "      <td>9.963000e+01</td>\n",
       "      <td>1.0</td>\n",
       "    </tr>\n",
       "    <tr>\n",
       "      <th>100535</th>\n",
       "      <td>30600.0</td>\n",
       "      <td>3.849000e+01</td>\n",
       "      <td>1.0</td>\n",
       "    </tr>\n",
       "    <tr>\n",
       "      <th>100547</th>\n",
       "      <td>26100.0</td>\n",
       "      <td>2.770000e+00</td>\n",
       "      <td>1.0</td>\n",
       "    </tr>\n",
       "    <tr>\n",
       "      <th>100548</th>\n",
       "      <td>26100.0</td>\n",
       "      <td>7.700000e-01</td>\n",
       "      <td>1.0</td>\n",
       "    </tr>\n",
       "    <tr>\n",
       "      <th>100549</th>\n",
       "      <td>26100.0</td>\n",
       "      <td>5.860000e+00</td>\n",
       "      <td>1.0</td>\n",
       "    </tr>\n",
       "    <tr>\n",
       "      <th>100550</th>\n",
       "      <td>26100.0</td>\n",
       "      <td>8.330000e+00</td>\n",
       "      <td>1.0</td>\n",
       "    </tr>\n",
       "    <tr>\n",
       "      <th>100551</th>\n",
       "      <td>26100.0</td>\n",
       "      <td>1.199000e+01</td>\n",
       "      <td>1.0</td>\n",
       "    </tr>\n",
       "    <tr>\n",
       "      <th>100560</th>\n",
       "      <td>32400.0</td>\n",
       "      <td>6.500000e-01</td>\n",
       "      <td>1.0</td>\n",
       "    </tr>\n",
       "    <tr>\n",
       "      <th>100561</th>\n",
       "      <td>32400.0</td>\n",
       "      <td>5.000000e-01</td>\n",
       "      <td>1.0</td>\n",
       "    </tr>\n",
       "    <tr>\n",
       "      <th>100562</th>\n",
       "      <td>32400.0</td>\n",
       "      <td>1.230000e+00</td>\n",
       "      <td>1.0</td>\n",
       "    </tr>\n",
       "    <tr>\n",
       "      <th>100563</th>\n",
       "      <td>32400.0</td>\n",
       "      <td>8.330000e+00</td>\n",
       "      <td>1.0</td>\n",
       "    </tr>\n",
       "    <tr>\n",
       "      <th>100564</th>\n",
       "      <td>32400.0</td>\n",
       "      <td>2.400000e-01</td>\n",
       "      <td>1.0</td>\n",
       "    </tr>\n",
       "    <tr>\n",
       "      <th>100565</th>\n",
       "      <td>32400.0</td>\n",
       "      <td>7.320000e+00</td>\n",
       "      <td>1.0</td>\n",
       "    </tr>\n",
       "    <tr>\n",
       "      <th>100566</th>\n",
       "      <td>32400.0</td>\n",
       "      <td>1.153000e+01</td>\n",
       "      <td>1.0</td>\n",
       "    </tr>\n",
       "    <tr>\n",
       "      <th>100580</th>\n",
       "      <td>21600.0</td>\n",
       "      <td>1.457000e+01</td>\n",
       "      <td>1.0</td>\n",
       "    </tr>\n",
       "    <tr>\n",
       "      <th>100581</th>\n",
       "      <td>21600.0</td>\n",
       "      <td>1.904000e+01</td>\n",
       "      <td>1.0</td>\n",
       "    </tr>\n",
       "    <tr>\n",
       "      <th>100582</th>\n",
       "      <td>21600.0</td>\n",
       "      <td>2.269000e+01</td>\n",
       "      <td>1.0</td>\n",
       "    </tr>\n",
       "    <tr>\n",
       "      <th>100583</th>\n",
       "      <td>21600.0</td>\n",
       "      <td>1.306000e+01</td>\n",
       "      <td>1.0</td>\n",
       "    </tr>\n",
       "    <tr>\n",
       "      <th>100584</th>\n",
       "      <td>21600.0</td>\n",
       "      <td>9.000000e-02</td>\n",
       "      <td>1.0</td>\n",
       "    </tr>\n",
       "    <tr>\n",
       "      <th>100601</th>\n",
       "      <td>28800.0</td>\n",
       "      <td>1.588000e+01</td>\n",
       "      <td>1.0</td>\n",
       "    </tr>\n",
       "    <tr>\n",
       "      <th>100602</th>\n",
       "      <td>28800.0</td>\n",
       "      <td>2.337000e+01</td>\n",
       "      <td>1.0</td>\n",
       "    </tr>\n",
       "    <tr>\n",
       "      <th>100603</th>\n",
       "      <td>28800.0</td>\n",
       "      <td>4.720000e+00</td>\n",
       "      <td>1.0</td>\n",
       "    </tr>\n",
       "    <tr>\n",
       "      <th>100640</th>\n",
       "      <td>32400.0</td>\n",
       "      <td>4.939000e+01</td>\n",
       "      <td>1.0</td>\n",
       "    </tr>\n",
       "    <tr>\n",
       "      <th>100641</th>\n",
       "      <td>32400.0</td>\n",
       "      <td>1.171000e+01</td>\n",
       "      <td>1.0</td>\n",
       "    </tr>\n",
       "    <tr>\n",
       "      <th>100653</th>\n",
       "      <td>25200.0</td>\n",
       "      <td>2.724000e+01</td>\n",
       "      <td>1.0</td>\n",
       "    </tr>\n",
       "    <tr>\n",
       "      <th>100654</th>\n",
       "      <td>25200.0</td>\n",
       "      <td>3.008000e+01</td>\n",
       "      <td>1.0</td>\n",
       "    </tr>\n",
       "    <tr>\n",
       "      <th>100655</th>\n",
       "      <td>25200.0</td>\n",
       "      <td>2.424000e+01</td>\n",
       "      <td>1.0</td>\n",
       "    </tr>\n",
       "    <tr>\n",
       "      <th>100663</th>\n",
       "      <td>30600.0</td>\n",
       "      <td>5.397605e-79</td>\n",
       "      <td>1.0</td>\n",
       "    </tr>\n",
       "    <tr>\n",
       "      <th>100665</th>\n",
       "      <td>30600.0</td>\n",
       "      <td>2.513000e+01</td>\n",
       "      <td>1.0</td>\n",
       "    </tr>\n",
       "  </tbody>\n",
       "</table>\n",
       "<p>42592 rows × 3 columns</p>\n",
       "</div>"
      ],
      "text/plain": [
       "           time           CHO  occasion\n",
       "0       27000.0  5.397605e-79       1.0\n",
       "1       27000.0  3.560000e+00       1.0\n",
       "2       27000.0  2.320000e+00       1.0\n",
       "4       32400.0  4.088000e+01       1.0\n",
       "5       32400.0  2.500000e-01       1.0\n",
       "25      32400.0  7.200000e-01       1.0\n",
       "26      32400.0  9.900000e-01       1.0\n",
       "27      32400.0  5.397605e-79       1.0\n",
       "28      32400.0  6.970000e+00       1.0\n",
       "29      32400.0  2.612000e+01       1.0\n",
       "30      32400.0  1.600000e-01       1.0\n",
       "72      30600.0  1.353000e+01       1.0\n",
       "73      30600.0  4.390000e+00       1.0\n",
       "83      30600.0  1.660000e+00       1.0\n",
       "84      30600.0  1.936000e+01       1.0\n",
       "85      30600.0  6.600000e+00       1.0\n",
       "86      30600.0  5.397605e-79       1.0\n",
       "116     36000.0  2.635000e+01       1.0\n",
       "117     36000.0  4.570000e+00       1.0\n",
       "118     36000.0  3.500000e-01       1.0\n",
       "119     36000.0  2.700000e-01       1.0\n",
       "120     36000.0  5.397605e-79       1.0\n",
       "121     36000.0  1.710000e+00       1.0\n",
       "122     36000.0  4.170000e+00       1.0\n",
       "123     36000.0  1.789000e+01       1.0\n",
       "136     32400.0  4.680000e+00       1.0\n",
       "137     32400.0  5.397605e-79       1.0\n",
       "153     32400.0  2.270000e+00       1.0\n",
       "154     32400.0  1.250000e+01       1.0\n",
       "164     36000.0  6.125000e+01       1.0\n",
       "...         ...           ...       ...\n",
       "100521  27000.0  5.397605e-79       1.0\n",
       "100534  30600.0  9.963000e+01       1.0\n",
       "100535  30600.0  3.849000e+01       1.0\n",
       "100547  26100.0  2.770000e+00       1.0\n",
       "100548  26100.0  7.700000e-01       1.0\n",
       "100549  26100.0  5.860000e+00       1.0\n",
       "100550  26100.0  8.330000e+00       1.0\n",
       "100551  26100.0  1.199000e+01       1.0\n",
       "100560  32400.0  6.500000e-01       1.0\n",
       "100561  32400.0  5.000000e-01       1.0\n",
       "100562  32400.0  1.230000e+00       1.0\n",
       "100563  32400.0  8.330000e+00       1.0\n",
       "100564  32400.0  2.400000e-01       1.0\n",
       "100565  32400.0  7.320000e+00       1.0\n",
       "100566  32400.0  1.153000e+01       1.0\n",
       "100580  21600.0  1.457000e+01       1.0\n",
       "100581  21600.0  1.904000e+01       1.0\n",
       "100582  21600.0  2.269000e+01       1.0\n",
       "100583  21600.0  1.306000e+01       1.0\n",
       "100584  21600.0  9.000000e-02       1.0\n",
       "100601  28800.0  1.588000e+01       1.0\n",
       "100602  28800.0  2.337000e+01       1.0\n",
       "100603  28800.0  4.720000e+00       1.0\n",
       "100640  32400.0  4.939000e+01       1.0\n",
       "100641  32400.0  1.171000e+01       1.0\n",
       "100653  25200.0  2.724000e+01       1.0\n",
       "100654  25200.0  3.008000e+01       1.0\n",
       "100655  25200.0  2.424000e+01       1.0\n",
       "100663  30600.0  5.397605e-79       1.0\n",
       "100665  30600.0  2.513000e+01       1.0\n",
       "\n",
       "[42592 rows x 3 columns]"
      ]
     },
     "execution_count": 38,
     "metadata": {},
     "output_type": "execute_result"
    }
   ],
   "source": [
    "breakfastdf"
   ]
  },
  {
   "cell_type": "code",
   "execution_count": 39,
   "metadata": {},
   "outputs": [
    {
     "name": "stdout",
     "output_type": "stream",
     "text": [
      "(99.98606227756464, 98.00167400067522, 49.07305294199369)\n"
     ]
    }
   ],
   "source": [
    "tup = prepare_data(breakfastdf)\n",
    "tup_score = regression(tup[0], tup[1], tup[2], tup[3])\n",
    "print(tup_score)"
   ]
  },
  {
   "cell_type": "code",
   "execution_count": 43,
   "metadata": {},
   "outputs": [
    {
     "data": {
      "text/html": [
       "<div>\n",
       "<style scoped>\n",
       "    .dataframe tbody tr th:only-of-type {\n",
       "        vertical-align: middle;\n",
       "    }\n",
       "\n",
       "    .dataframe tbody tr th {\n",
       "        vertical-align: top;\n",
       "    }\n",
       "\n",
       "    .dataframe thead th {\n",
       "        text-align: right;\n",
       "    }\n",
       "</style>\n",
       "<table border=\"1\" class=\"dataframe\">\n",
       "  <thead>\n",
       "    <tr style=\"text-align: right;\">\n",
       "      <th></th>\n",
       "      <th>time</th>\n",
       "      <th>CHO</th>\n",
       "    </tr>\n",
       "  </thead>\n",
       "  <tbody>\n",
       "    <tr>\n",
       "      <th>6323</th>\n",
       "      <td>25200.0</td>\n",
       "      <td>23.40</td>\n",
       "    </tr>\n",
       "    <tr>\n",
       "      <th>18099</th>\n",
       "      <td>28800.0</td>\n",
       "      <td>13.63</td>\n",
       "    </tr>\n",
       "    <tr>\n",
       "      <th>2627</th>\n",
       "      <td>21600.0</td>\n",
       "      <td>15.38</td>\n",
       "    </tr>\n",
       "    <tr>\n",
       "      <th>4852</th>\n",
       "      <td>24000.0</td>\n",
       "      <td>11.71</td>\n",
       "    </tr>\n",
       "    <tr>\n",
       "      <th>39572</th>\n",
       "      <td>37800.0</td>\n",
       "      <td>0.20</td>\n",
       "    </tr>\n",
       "  </tbody>\n",
       "</table>\n",
       "</div>"
      ],
      "text/plain": [
       "          time    CHO\n",
       "6323   25200.0  23.40\n",
       "18099  28800.0  13.63\n",
       "2627   21600.0  15.38\n",
       "4852   24000.0  11.71\n",
       "39572  37800.0   0.20"
      ]
     },
     "execution_count": 43,
     "metadata": {},
     "output_type": "execute_result"
    }
   ],
   "source": [
    "tup[0].head()"
   ]
  },
  {
   "cell_type": "code",
   "execution_count": 44,
   "metadata": {
    "scrolled": true
   },
   "outputs": [
    {
     "data": {
      "text/html": [
       "<div>\n",
       "<style scoped>\n",
       "    .dataframe tbody tr th:only-of-type {\n",
       "        vertical-align: middle;\n",
       "    }\n",
       "\n",
       "    .dataframe tbody tr th {\n",
       "        vertical-align: top;\n",
       "    }\n",
       "\n",
       "    .dataframe thead th {\n",
       "        text-align: right;\n",
       "    }\n",
       "</style>\n",
       "<table border=\"1\" class=\"dataframe\">\n",
       "  <thead>\n",
       "    <tr style=\"text-align: right;\">\n",
       "      <th></th>\n",
       "      <th>time</th>\n",
       "      <th>CHO</th>\n",
       "    </tr>\n",
       "  </thead>\n",
       "  <tbody>\n",
       "    <tr>\n",
       "      <th>36863</th>\n",
       "      <td>36000.0</td>\n",
       "      <td>7.000000e-01</td>\n",
       "    </tr>\n",
       "    <tr>\n",
       "      <th>33849</th>\n",
       "      <td>34200.0</td>\n",
       "      <td>9.100000e-01</td>\n",
       "    </tr>\n",
       "    <tr>\n",
       "      <th>25719</th>\n",
       "      <td>31500.0</td>\n",
       "      <td>2.802000e+01</td>\n",
       "    </tr>\n",
       "    <tr>\n",
       "      <th>39729</th>\n",
       "      <td>37800.0</td>\n",
       "      <td>6.510000e+00</td>\n",
       "    </tr>\n",
       "    <tr>\n",
       "      <th>28412</th>\n",
       "      <td>32400.0</td>\n",
       "      <td>4.170000e+00</td>\n",
       "    </tr>\n",
       "    <tr>\n",
       "      <th>10905</th>\n",
       "      <td>27000.0</td>\n",
       "      <td>7.320000e+00</td>\n",
       "    </tr>\n",
       "    <tr>\n",
       "      <th>21481</th>\n",
       "      <td>29700.0</td>\n",
       "      <td>1.340000e+01</td>\n",
       "    </tr>\n",
       "    <tr>\n",
       "      <th>40300</th>\n",
       "      <td>39600.0</td>\n",
       "      <td>2.900000e-01</td>\n",
       "    </tr>\n",
       "    <tr>\n",
       "      <th>6919</th>\n",
       "      <td>25200.0</td>\n",
       "      <td>5.397605e-79</td>\n",
       "    </tr>\n",
       "    <tr>\n",
       "      <th>10718</th>\n",
       "      <td>27000.0</td>\n",
       "      <td>6.641000e+01</td>\n",
       "    </tr>\n",
       "    <tr>\n",
       "      <th>34703</th>\n",
       "      <td>34200.0</td>\n",
       "      <td>3.106000e+01</td>\n",
       "    </tr>\n",
       "    <tr>\n",
       "      <th>26499</th>\n",
       "      <td>32400.0</td>\n",
       "      <td>1.747000e+01</td>\n",
       "    </tr>\n",
       "    <tr>\n",
       "      <th>5402</th>\n",
       "      <td>25200.0</td>\n",
       "      <td>2.280000e+00</td>\n",
       "    </tr>\n",
       "    <tr>\n",
       "      <th>8311</th>\n",
       "      <td>25200.0</td>\n",
       "      <td>1.169000e+01</td>\n",
       "    </tr>\n",
       "    <tr>\n",
       "      <th>15187</th>\n",
       "      <td>28800.0</td>\n",
       "      <td>2.500000e+01</td>\n",
       "    </tr>\n",
       "    <tr>\n",
       "      <th>19472</th>\n",
       "      <td>28800.0</td>\n",
       "      <td>9.100000e-01</td>\n",
       "    </tr>\n",
       "    <tr>\n",
       "      <th>40160</th>\n",
       "      <td>39600.0</td>\n",
       "      <td>9.800000e-01</td>\n",
       "    </tr>\n",
       "    <tr>\n",
       "      <th>21015</th>\n",
       "      <td>28800.0</td>\n",
       "      <td>2.725000e+01</td>\n",
       "    </tr>\n",
       "    <tr>\n",
       "      <th>13314</th>\n",
       "      <td>27000.0</td>\n",
       "      <td>1.940000e+00</td>\n",
       "    </tr>\n",
       "    <tr>\n",
       "      <th>1067</th>\n",
       "      <td>19800.0</td>\n",
       "      <td>5.350000e+00</td>\n",
       "    </tr>\n",
       "    <tr>\n",
       "      <th>12668</th>\n",
       "      <td>27000.0</td>\n",
       "      <td>1.363000e+01</td>\n",
       "    </tr>\n",
       "    <tr>\n",
       "      <th>11413</th>\n",
       "      <td>27000.0</td>\n",
       "      <td>3.500000e-01</td>\n",
       "    </tr>\n",
       "    <tr>\n",
       "      <th>3822</th>\n",
       "      <td>23400.0</td>\n",
       "      <td>1.089000e+01</td>\n",
       "    </tr>\n",
       "    <tr>\n",
       "      <th>15160</th>\n",
       "      <td>28800.0</td>\n",
       "      <td>5.397605e-79</td>\n",
       "    </tr>\n",
       "    <tr>\n",
       "      <th>37573</th>\n",
       "      <td>36000.0</td>\n",
       "      <td>1.040000e+00</td>\n",
       "    </tr>\n",
       "    <tr>\n",
       "      <th>20305</th>\n",
       "      <td>28800.0</td>\n",
       "      <td>3.480000e+00</td>\n",
       "    </tr>\n",
       "    <tr>\n",
       "      <th>34006</th>\n",
       "      <td>34200.0</td>\n",
       "      <td>1.250000e+01</td>\n",
       "    </tr>\n",
       "    <tr>\n",
       "      <th>17205</th>\n",
       "      <td>28800.0</td>\n",
       "      <td>6.050000e+00</td>\n",
       "    </tr>\n",
       "    <tr>\n",
       "      <th>35232</th>\n",
       "      <td>36000.0</td>\n",
       "      <td>3.667000e+01</td>\n",
       "    </tr>\n",
       "    <tr>\n",
       "      <th>11984</th>\n",
       "      <td>27000.0</td>\n",
       "      <td>4.208000e+01</td>\n",
       "    </tr>\n",
       "    <tr>\n",
       "      <th>...</th>\n",
       "      <td>...</td>\n",
       "      <td>...</td>\n",
       "    </tr>\n",
       "    <tr>\n",
       "      <th>6532</th>\n",
       "      <td>25200.0</td>\n",
       "      <td>2.318000e+01</td>\n",
       "    </tr>\n",
       "    <tr>\n",
       "      <th>4719</th>\n",
       "      <td>23400.0</td>\n",
       "      <td>1.757000e+01</td>\n",
       "    </tr>\n",
       "    <tr>\n",
       "      <th>31770</th>\n",
       "      <td>32400.0</td>\n",
       "      <td>1.152000e+01</td>\n",
       "    </tr>\n",
       "    <tr>\n",
       "      <th>22845</th>\n",
       "      <td>30600.0</td>\n",
       "      <td>2.795000e+01</td>\n",
       "    </tr>\n",
       "    <tr>\n",
       "      <th>31260</th>\n",
       "      <td>32400.0</td>\n",
       "      <td>1.892000e+01</td>\n",
       "    </tr>\n",
       "    <tr>\n",
       "      <th>42196</th>\n",
       "      <td>45600.0</td>\n",
       "      <td>2.458000e+01</td>\n",
       "    </tr>\n",
       "    <tr>\n",
       "      <th>22530</th>\n",
       "      <td>30600.0</td>\n",
       "      <td>2.061000e+01</td>\n",
       "    </tr>\n",
       "    <tr>\n",
       "      <th>24437</th>\n",
       "      <td>30600.0</td>\n",
       "      <td>1.300000e-01</td>\n",
       "    </tr>\n",
       "    <tr>\n",
       "      <th>31442</th>\n",
       "      <td>32400.0</td>\n",
       "      <td>7.000000e-01</td>\n",
       "    </tr>\n",
       "    <tr>\n",
       "      <th>34548</th>\n",
       "      <td>34200.0</td>\n",
       "      <td>7.200000e-01</td>\n",
       "    </tr>\n",
       "    <tr>\n",
       "      <th>40865</th>\n",
       "      <td>39600.0</td>\n",
       "      <td>3.700000e-01</td>\n",
       "    </tr>\n",
       "    <tr>\n",
       "      <th>41586</th>\n",
       "      <td>41400.0</td>\n",
       "      <td>2.569000e+01</td>\n",
       "    </tr>\n",
       "    <tr>\n",
       "      <th>13878</th>\n",
       "      <td>27000.0</td>\n",
       "      <td>3.969000e+01</td>\n",
       "    </tr>\n",
       "    <tr>\n",
       "      <th>6940</th>\n",
       "      <td>25200.0</td>\n",
       "      <td>4.095000e+01</td>\n",
       "    </tr>\n",
       "    <tr>\n",
       "      <th>41265</th>\n",
       "      <td>39600.0</td>\n",
       "      <td>1.604000e+01</td>\n",
       "    </tr>\n",
       "    <tr>\n",
       "      <th>17630</th>\n",
       "      <td>28800.0</td>\n",
       "      <td>1.860000e+00</td>\n",
       "    </tr>\n",
       "    <tr>\n",
       "      <th>37649</th>\n",
       "      <td>36000.0</td>\n",
       "      <td>6.048000e+01</td>\n",
       "    </tr>\n",
       "    <tr>\n",
       "      <th>31911</th>\n",
       "      <td>32400.0</td>\n",
       "      <td>3.300000e-01</td>\n",
       "    </tr>\n",
       "    <tr>\n",
       "      <th>21125</th>\n",
       "      <td>28800.0</td>\n",
       "      <td>9.900000e-01</td>\n",
       "    </tr>\n",
       "    <tr>\n",
       "      <th>24598</th>\n",
       "      <td>30600.0</td>\n",
       "      <td>5.860000e+00</td>\n",
       "    </tr>\n",
       "    <tr>\n",
       "      <th>6817</th>\n",
       "      <td>25200.0</td>\n",
       "      <td>5.397605e-79</td>\n",
       "    </tr>\n",
       "    <tr>\n",
       "      <th>14841</th>\n",
       "      <td>28800.0</td>\n",
       "      <td>2.862000e+01</td>\n",
       "    </tr>\n",
       "    <tr>\n",
       "      <th>18636</th>\n",
       "      <td>28800.0</td>\n",
       "      <td>5.397605e-79</td>\n",
       "    </tr>\n",
       "    <tr>\n",
       "      <th>39560</th>\n",
       "      <td>37800.0</td>\n",
       "      <td>5.397605e-79</td>\n",
       "    </tr>\n",
       "    <tr>\n",
       "      <th>2043</th>\n",
       "      <td>21600.0</td>\n",
       "      <td>1.250000e+01</td>\n",
       "    </tr>\n",
       "    <tr>\n",
       "      <th>7331</th>\n",
       "      <td>25200.0</td>\n",
       "      <td>2.930000e+00</td>\n",
       "    </tr>\n",
       "    <tr>\n",
       "      <th>33126</th>\n",
       "      <td>34200.0</td>\n",
       "      <td>6.960000e+01</td>\n",
       "    </tr>\n",
       "    <tr>\n",
       "      <th>41763</th>\n",
       "      <td>43200.0</td>\n",
       "      <td>8.040000e+00</td>\n",
       "    </tr>\n",
       "    <tr>\n",
       "      <th>34258</th>\n",
       "      <td>34200.0</td>\n",
       "      <td>5.120000e+00</td>\n",
       "    </tr>\n",
       "    <tr>\n",
       "      <th>11332</th>\n",
       "      <td>27000.0</td>\n",
       "      <td>5.397605e-79</td>\n",
       "    </tr>\n",
       "  </tbody>\n",
       "</table>\n",
       "<p>10649 rows × 2 columns</p>\n",
       "</div>"
      ],
      "text/plain": [
       "          time           CHO\n",
       "36863  36000.0  7.000000e-01\n",
       "33849  34200.0  9.100000e-01\n",
       "25719  31500.0  2.802000e+01\n",
       "39729  37800.0  6.510000e+00\n",
       "28412  32400.0  4.170000e+00\n",
       "10905  27000.0  7.320000e+00\n",
       "21481  29700.0  1.340000e+01\n",
       "40300  39600.0  2.900000e-01\n",
       "6919   25200.0  5.397605e-79\n",
       "10718  27000.0  6.641000e+01\n",
       "34703  34200.0  3.106000e+01\n",
       "26499  32400.0  1.747000e+01\n",
       "5402   25200.0  2.280000e+00\n",
       "8311   25200.0  1.169000e+01\n",
       "15187  28800.0  2.500000e+01\n",
       "19472  28800.0  9.100000e-01\n",
       "40160  39600.0  9.800000e-01\n",
       "21015  28800.0  2.725000e+01\n",
       "13314  27000.0  1.940000e+00\n",
       "1067   19800.0  5.350000e+00\n",
       "12668  27000.0  1.363000e+01\n",
       "11413  27000.0  3.500000e-01\n",
       "3822   23400.0  1.089000e+01\n",
       "15160  28800.0  5.397605e-79\n",
       "37573  36000.0  1.040000e+00\n",
       "20305  28800.0  3.480000e+00\n",
       "34006  34200.0  1.250000e+01\n",
       "17205  28800.0  6.050000e+00\n",
       "35232  36000.0  3.667000e+01\n",
       "11984  27000.0  4.208000e+01\n",
       "...        ...           ...\n",
       "6532   25200.0  2.318000e+01\n",
       "4719   23400.0  1.757000e+01\n",
       "31770  32400.0  1.152000e+01\n",
       "22845  30600.0  2.795000e+01\n",
       "31260  32400.0  1.892000e+01\n",
       "42196  45600.0  2.458000e+01\n",
       "22530  30600.0  2.061000e+01\n",
       "24437  30600.0  1.300000e-01\n",
       "31442  32400.0  7.000000e-01\n",
       "34548  34200.0  7.200000e-01\n",
       "40865  39600.0  3.700000e-01\n",
       "41586  41400.0  2.569000e+01\n",
       "13878  27000.0  3.969000e+01\n",
       "6940   25200.0  4.095000e+01\n",
       "41265  39600.0  1.604000e+01\n",
       "17630  28800.0  1.860000e+00\n",
       "37649  36000.0  6.048000e+01\n",
       "31911  32400.0  3.300000e-01\n",
       "21125  28800.0  9.900000e-01\n",
       "24598  30600.0  5.860000e+00\n",
       "6817   25200.0  5.397605e-79\n",
       "14841  28800.0  2.862000e+01\n",
       "18636  28800.0  5.397605e-79\n",
       "39560  37800.0  5.397605e-79\n",
       "2043   21600.0  1.250000e+01\n",
       "7331   25200.0  2.930000e+00\n",
       "33126  34200.0  6.960000e+01\n",
       "41763  43200.0  8.040000e+00\n",
       "34258  34200.0  5.120000e+00\n",
       "11332  27000.0  5.397605e-79\n",
       "\n",
       "[10649 rows x 2 columns]"
      ]
     },
     "execution_count": 44,
     "metadata": {},
     "output_type": "execute_result"
    }
   ],
   "source": [
    "tup[1]"
   ]
  },
  {
   "cell_type": "markdown",
   "metadata": {},
   "source": [
    "#### On lunch"
   ]
  },
  {
   "cell_type": "code",
   "execution_count": null,
   "metadata": {},
   "outputs": [],
   "source": [
    "tup = prepare_data(lunchdf)\n",
    "tup_score = regression(tup[0], tup[1], tup[2], tup[3])\n",
    "print(tup_score)"
   ]
  },
  {
   "cell_type": "markdown",
   "metadata": {},
   "source": [
    "#### On dinner"
   ]
  },
  {
   "cell_type": "code",
   "execution_count": null,
   "metadata": {},
   "outputs": [],
   "source": [
    "tup = prepare_data(dinnerdf)\n",
    "tup_score = regression(tup[0], tup[1], tup[2], tup[3])\n",
    "print(tup_score)"
   ]
  },
  {
   "cell_type": "markdown",
   "metadata": {},
   "source": [
    "#### On supper"
   ]
  },
  {
   "cell_type": "code",
   "execution_count": null,
   "metadata": {},
   "outputs": [],
   "source": [
    "tup = prepare_data(supperdf)\n",
    "tup_score = regression(tup[0], tup[1], tup[2], tup[3])\n",
    "print(tup_score)"
   ]
  },
  {
   "cell_type": "markdown",
   "metadata": {},
   "source": [
    "#### On brunch"
   ]
  },
  {
   "cell_type": "code",
   "execution_count": null,
   "metadata": {},
   "outputs": [],
   "source": [
    "tup = prepare_data(brunchdf)\n",
    "tup_score = regression(tup[0], tup[1], tup[2], tup[3])\n",
    "print(tup_score)"
   ]
  },
  {
   "cell_type": "markdown",
   "metadata": {},
   "source": [
    "#### On snacks"
   ]
  },
  {
   "cell_type": "code",
   "execution_count": null,
   "metadata": {},
   "outputs": [],
   "source": [
    "tup = prepare_data(snackdf)\n",
    "tup_score = regression(tup[0], tup[1], tup[2], tup[3])\n",
    "print(tup_score)"
   ]
  },
  {
   "cell_type": "markdown",
   "metadata": {},
   "source": [
    "#### On drinks"
   ]
  },
  {
   "cell_type": "code",
   "execution_count": null,
   "metadata": {},
   "outputs": [],
   "source": [
    "tup = prepare_data(drinkdf)\n",
    "tup_score = regression(tup[0], tup[1], tup[2], tup[3])\n",
    "print(tup_score)"
   ]
  },
  {
   "cell_type": "markdown",
   "metadata": {},
   "source": [
    "#### On infant"
   ]
  },
  {
   "cell_type": "code",
   "execution_count": null,
   "metadata": {},
   "outputs": [],
   "source": [
    "tup = prepare_data(infantdf)\n",
    "tup_score = regression(tup[0], tup[1], tup[2], tup[3])\n",
    "print(tup_score)"
   ]
  },
  {
   "cell_type": "markdown",
   "metadata": {},
   "source": [
    "#### On extended"
   ]
  },
  {
   "cell_type": "code",
   "execution_count": null,
   "metadata": {},
   "outputs": [],
   "source": [
    "tup = prepare_data(extendeddf)\n",
    "tup_score = regression(tup[0], tup[1], tup[2], tup[3])\n",
    "print(tup_score)"
   ]
  },
  {
   "cell_type": "markdown",
   "metadata": {},
   "source": [
    "### Considering Intake day of the week"
   ]
  },
  {
   "cell_type": "code",
   "execution_count": null,
   "metadata": {},
   "outputs": [],
   "source": [
    "day1 = data1[['DR1_020', 'DR1ICARB', 'DR1DAY']].copy()\n",
    "day2 = data2[['DR2_020', 'DR2ICARB', 'DR2DAY']].copy()"
   ]
  },
  {
   "cell_type": "code",
   "execution_count": null,
   "metadata": {
    "scrolled": true
   },
   "outputs": [],
   "source": [
    "day2.columns = ['time', 'CHO', 'day']\n",
    "day1.columns = ['time', 'CHO', 'day']\n",
    "total = pd.concat([day1, day2])\n",
    "total"
   ]
  },
  {
   "cell_type": "code",
   "execution_count": null,
   "metadata": {},
   "outputs": [],
   "source": [
    "sun = 0\n",
    "mon = 0\n",
    "tue = 0\n",
    "wed = 0\n",
    "thu = 0\n",
    "fri = 0\n",
    "sat = 0\n",
    "sunc = 0\n",
    "monc = 0\n",
    "tuec = 0\n",
    "wedc = 0\n",
    "thuc = 0\n",
    "fric = 0\n",
    "satc = 0\n",
    "for row, value in total.iterrows():\n",
    "    if value['day'] == 1.0:\n",
    "        sunc += 1\n",
    "        sun = sun + value['CHO']\n",
    "    if value['day'] == 2.0:\n",
    "        monc += 1\n",
    "        mon = mon + value['CHO']\n",
    "    if value['day'] == 3.0:\n",
    "        tuec += 1\n",
    "        tue = tue + value['CHO']\n",
    "    if value['day'] == 4.0:\n",
    "        wedc += 1\n",
    "        wed = wed + value['CHO']\n",
    "    if value['day'] == 5.0:\n",
    "        thuc += 1\n",
    "        thu = thu + value['CHO']\n",
    "    if value['day'] == 6.0:\n",
    "        fric += 1\n",
    "        fri = fri + value['CHO']\n",
    "    if value['day'] == 7.0:\n",
    "        satc += 1\n",
    "        sat = sat + value['CHO']"
   ]
  },
  {
   "cell_type": "code",
   "execution_count": null,
   "metadata": {},
   "outputs": [],
   "source": [
    "week1 = ['sun', 'mon', 'tue', 'wed', 'thu', 'fri', 'sat']\n",
    "week = [sun/sunc, mon/monc, tue/tuec, wed/wedc, thu/thuc, fri/fric, sat/satc]"
   ]
  },
  {
   "cell_type": "code",
   "execution_count": null,
   "metadata": {},
   "outputs": [],
   "source": [
    "plt.bar(np.arange(len(week1)), week)\n",
    "plt.xticks(np.arange(len(week1)), week1)\n",
    "plt.ylabel('average CHO level')"
   ]
  },
  {
   "cell_type": "code",
   "execution_count": null,
   "metadata": {},
   "outputs": [],
   "source": [
    "week1[week.index(max(week))]"
   ]
  },
  {
   "cell_type": "code",
   "execution_count": null,
   "metadata": {},
   "outputs": [],
   "source": [
    "print(total['day'].unique())"
   ]
  },
  {
   "cell_type": "code",
   "execution_count": null,
   "metadata": {},
   "outputs": [],
   "source": [
    "sundf = total[total['day'] == 1]"
   ]
  },
  {
   "cell_type": "code",
   "execution_count": null,
   "metadata": {},
   "outputs": [],
   "source": [
    "mondf = total[total['day'] == 2]"
   ]
  },
  {
   "cell_type": "code",
   "execution_count": null,
   "metadata": {},
   "outputs": [],
   "source": [
    "tuedf = total[total['day'] == 3]"
   ]
  },
  {
   "cell_type": "code",
   "execution_count": null,
   "metadata": {},
   "outputs": [],
   "source": [
    "weddf = total[total['day'] == 4]"
   ]
  },
  {
   "cell_type": "code",
   "execution_count": null,
   "metadata": {},
   "outputs": [],
   "source": [
    "thudf = total[total['day'] == 5]"
   ]
  },
  {
   "cell_type": "code",
   "execution_count": null,
   "metadata": {},
   "outputs": [],
   "source": [
    "fridf = total[total['day'] == 6]"
   ]
  },
  {
   "cell_type": "code",
   "execution_count": null,
   "metadata": {},
   "outputs": [],
   "source": [
    "satdf = total[total['day'] == 7]"
   ]
  },
  {
   "cell_type": "markdown",
   "metadata": {},
   "source": [
    "#### Prediction"
   ]
  },
  {
   "cell_type": "code",
   "execution_count": null,
   "metadata": {},
   "outputs": [],
   "source": [
    "def prepare_data1(cluster_name):\n",
    "    cluster_name = cluster_name.sort_values(by=['time'])\n",
    "    cluster_name = cluster_name.drop(['day'], axis=1)\n",
    "    cluster_name = pd.concat([first_row, cluster_name]).reset_index(drop = True)\n",
    "    cluster_name = cluster_name.append({'time': 0, 'CHO': 0} , ignore_index=True)\n",
    "    X = cluster_name[0:(len(cluster_name)-1)]\n",
    "    y = cluster_name[1:(len(cluster_name))]\n",
    "    X_train,X_test,y_train,y_test = train_test_split(X,y,random_state=0)\n",
    "    tup = (X_train, X_test, y_train, y_test)\n",
    "    return (tup)\n",
    "\n",
    "def regression1(X_train, X_test, y_train, y_test):\n",
    "    lr = LinearRegression().fit(X_train,y_train)\n",
    "    train_score = lr.score(X_train, y_train)*100\n",
    "    test_score = lr.score(X_test, y_test)*100\n",
    "    y_pred = lr.predict(X_test)\n",
    "    r_score = r2_score(y_test, y_pred)*100\n",
    "    tup_score = (train_score, test_score, r_score)\n",
    "    return (tup_score)"
   ]
  },
  {
   "cell_type": "markdown",
   "metadata": {},
   "source": [
    "#### On sunday"
   ]
  },
  {
   "cell_type": "code",
   "execution_count": null,
   "metadata": {},
   "outputs": [],
   "source": [
    "tup = prepare_data1(sundf)\n",
    "tup_score = regression1(tup[0], tup[1], tup[2], tup[3])\n",
    "print(tup_score)"
   ]
  },
  {
   "cell_type": "markdown",
   "metadata": {},
   "source": [
    "#### On monday"
   ]
  },
  {
   "cell_type": "code",
   "execution_count": null,
   "metadata": {},
   "outputs": [],
   "source": [
    "tup = prepare_data1(mondf)\n",
    "tup_score = regression1(tup[0], tup[1], tup[2], tup[3])\n",
    "print(tup_score)"
   ]
  },
  {
   "cell_type": "markdown",
   "metadata": {},
   "source": [
    "#### On tuesday"
   ]
  },
  {
   "cell_type": "code",
   "execution_count": null,
   "metadata": {},
   "outputs": [],
   "source": [
    "tup = prepare_data1(tuedf)\n",
    "tup_score = regression1(tup[0], tup[1], tup[2], tup[3])\n",
    "print(tup_score)"
   ]
  },
  {
   "cell_type": "markdown",
   "metadata": {},
   "source": [
    "#### On wednesday"
   ]
  },
  {
   "cell_type": "code",
   "execution_count": null,
   "metadata": {},
   "outputs": [],
   "source": [
    "tup = prepare_data1(weddf)\n",
    "tup_score = regression1(tup[0], tup[1], tup[2], tup[3])\n",
    "print(tup_score)"
   ]
  },
  {
   "cell_type": "markdown",
   "metadata": {},
   "source": [
    "#### On Thursday"
   ]
  },
  {
   "cell_type": "code",
   "execution_count": null,
   "metadata": {},
   "outputs": [],
   "source": [
    "tup = prepare_data1(thudf)\n",
    "tup_score = regression1(tup[0], tup[1], tup[2], tup[3])\n",
    "print(tup_score)"
   ]
  },
  {
   "cell_type": "markdown",
   "metadata": {},
   "source": [
    "#### On Friday"
   ]
  },
  {
   "cell_type": "code",
   "execution_count": null,
   "metadata": {},
   "outputs": [],
   "source": [
    "tup = prepare_data1(fridf)\n",
    "tup_score = regression1(tup[0], tup[1], tup[2], tup[3])\n",
    "print(tup_score)"
   ]
  },
  {
   "cell_type": "markdown",
   "metadata": {},
   "source": [
    "#### On Saturday"
   ]
  },
  {
   "cell_type": "code",
   "execution_count": null,
   "metadata": {},
   "outputs": [],
   "source": [
    "tup = prepare_data1(satdf)\n",
    "tup_score = regression1(tup[0], tup[1], tup[2], tup[3])\n",
    "print(tup_score)"
   ]
  },
  {
   "cell_type": "markdown",
   "metadata": {},
   "source": [
    "### DR1_040Z  and DR2_040Z - Did you eat this meal at home?"
   ]
  },
  {
   "cell_type": "markdown",
   "metadata": {},
   "source": [
    "#### 1 - at home         2 - Not at home"
   ]
  },
  {
   "cell_type": "code",
   "execution_count": null,
   "metadata": {
    "scrolled": true
   },
   "outputs": [],
   "source": [
    "day1 = data1[['DR1_020', 'DR1ICARB', 'DR1_040Z']].copy()\n",
    "day2 = data2[['DR2_020', 'DR2ICARB', 'DR2_040Z']].copy()\n",
    "day2.columns = ['time', 'CHO', 'at_home']\n",
    "day1.columns = ['time', 'CHO', 'at_home']\n",
    "total = pd.concat([day1, day2])\n",
    "total"
   ]
  },
  {
   "cell_type": "code",
   "execution_count": null,
   "metadata": {},
   "outputs": [],
   "source": [
    "yes = 0\n",
    "no = 0\n",
    "yesc = 0\n",
    "noc = 0\n",
    "for row, value in total.iterrows():\n",
    "    if value['at_home'] == 1.0:\n",
    "        yesc += 1\n",
    "        yes = yes + value['CHO']\n",
    "    if value['at_home'] == 2.0:\n",
    "        noc += 1\n",
    "        no = no + value['CHO']"
   ]
  },
  {
   "cell_type": "code",
   "execution_count": null,
   "metadata": {},
   "outputs": [],
   "source": [
    "plt.bar([0,1], [yes/yesc,no/noc])\n",
    "plt.xticks(np.arange(2), ['at home', 'not at home'])\n",
    "fig_size[0] = 1\n",
    "plt.ylabel(\"Average CHO levels\")\n",
    "fig_size[1] = 1\n",
    "plt.rcParams[\"figure.figsize\"] = fig_size"
   ]
  },
  {
   "cell_type": "code",
   "execution_count": null,
   "metadata": {},
   "outputs": [],
   "source": [
    "print(total['at_home'].unique())"
   ]
  },
  {
   "cell_type": "code",
   "execution_count": null,
   "metadata": {},
   "outputs": [],
   "source": [
    "mealhome = total[total['at_home'] == 1]"
   ]
  },
  {
   "cell_type": "code",
   "execution_count": null,
   "metadata": {},
   "outputs": [],
   "source": [
    "mealhome.shape"
   ]
  },
  {
   "cell_type": "code",
   "execution_count": null,
   "metadata": {},
   "outputs": [],
   "source": [
    "mealoutside = total[total['at_home'] == 2]"
   ]
  },
  {
   "cell_type": "code",
   "execution_count": null,
   "metadata": {},
   "outputs": [],
   "source": [
    "mealoutside.shape"
   ]
  },
  {
   "cell_type": "markdown",
   "metadata": {},
   "source": [
    "#### Prediction"
   ]
  },
  {
   "cell_type": "code",
   "execution_count": null,
   "metadata": {},
   "outputs": [],
   "source": [
    "def prepare_data2(cluster_name):\n",
    "    cluster_name = cluster_name.sort_values(by=['time'])\n",
    "    cluster_name = cluster_name.drop(['at_home'], axis=1)\n",
    "    cluster_name = pd.concat([first_row, cluster_name]).reset_index(drop = True)\n",
    "    cluster_name = cluster_name.append({'time': 0, 'CHO': 0} , ignore_index=True)\n",
    "    X = cluster_name[0:(len(cluster_name)-1)]\n",
    "    y = cluster_name[1:(len(cluster_name))]\n",
    "    X_train,X_test,y_train,y_test = train_test_split(X,y,random_state=0)\n",
    "    tup = (X_train, X_test, y_train, y_test)\n",
    "    return (tup)\n",
    "\n",
    "def regression2(X_train, X_test, y_train, y_test):\n",
    "    lr = LinearRegression().fit(X_train,y_train)\n",
    "    train_score = lr.score(X_train, y_train)*100\n",
    "    test_score = lr.score(X_test, y_test)*100\n",
    "    y_pred = lr.predict(X_test)\n",
    "    r_score = r2_score(y_test, y_pred)*100\n",
    "    tup_score = (train_score, test_score, r_score)\n",
    "    return (tup_score)"
   ]
  },
  {
   "cell_type": "markdown",
   "metadata": {},
   "source": [
    "#### At home"
   ]
  },
  {
   "cell_type": "code",
   "execution_count": null,
   "metadata": {},
   "outputs": [],
   "source": [
    "tup = prepare_data2(mealhome)\n",
    "tup_score = regression2(tup[0], tup[1], tup[2], tup[3])\n",
    "print(tup_score)"
   ]
  },
  {
   "cell_type": "markdown",
   "metadata": {},
   "source": [
    "#### Outside home"
   ]
  },
  {
   "cell_type": "code",
   "execution_count": null,
   "metadata": {},
   "outputs": [],
   "source": [
    "tup = prepare_data2(mealoutside)\n",
    "tup_score = regression2(tup[0], tup[1], tup[2], tup[3])\n",
    "print(tup_score)"
   ]
  },
  {
   "cell_type": "code",
   "execution_count": 37,
   "metadata": {},
   "outputs": [
    {
     "ename": "NameError",
     "evalue": "name 'tup_score' is not defined",
     "output_type": "error",
     "traceback": [
      "\u001b[0;31m---------------------------------------------------------------------------\u001b[0m",
      "\u001b[0;31mNameError\u001b[0m                                 Traceback (most recent call last)",
      "\u001b[0;32m<ipython-input-37-77f2b1239cad>\u001b[0m in \u001b[0;36m<module>\u001b[0;34m\u001b[0m\n\u001b[0;32m----> 1\u001b[0;31m \u001b[0mtup_score\u001b[0m\u001b[0;34m\u001b[0m\u001b[0m\n\u001b[0m",
      "\u001b[0;31mNameError\u001b[0m: name 'tup_score' is not defined"
     ]
    }
   ],
   "source": [
    "tup_score"
   ]
  },
  {
   "cell_type": "code",
   "execution_count": null,
   "metadata": {},
   "outputs": [],
   "source": []
  }
 ],
 "metadata": {
  "kernelspec": {
   "display_name": "Python 3",
   "language": "python",
   "name": "python3"
  },
  "language_info": {
   "codemirror_mode": {
    "name": "ipython",
    "version": 3
   },
   "file_extension": ".py",
   "mimetype": "text/x-python",
   "name": "python",
   "nbconvert_exporter": "python",
   "pygments_lexer": "ipython3",
   "version": "3.7.0"
  }
 },
 "nbformat": 4,
 "nbformat_minor": 2
}
