{
 "cells": [
  {
   "cell_type": "code",
   "execution_count": 1,
   "metadata": {},
   "outputs": [],
   "source": [
    "import matplotlib.pyplot as plt\n",
    "import numpy as np\n",
    "import pandas as pd\n",
    "from datetime import timedelta"
   ]
  },
  {
   "cell_type": "code",
   "execution_count": 2,
   "metadata": {},
   "outputs": [],
   "source": [
    "df = pd.read_csv('meal.csv')\n",
    "df = df.dropna()"
   ]
  },
  {
   "cell_type": "code",
   "execution_count": 3,
   "metadata": {},
   "outputs": [],
   "source": [
    "# removing this for now as linear regression can't be applied on datetime format\n",
    "#df['DR1_020'] = pd.to_datetime(df['DR1_020'], unit='s').dt.time"
   ]
  },
  {
   "cell_type": "code",
   "execution_count": 4,
   "metadata": {},
   "outputs": [],
   "source": [
    "oneparticipant = df[0:16][['DR1_020', 'DR1ICARB']].copy()\n",
    "#oneparticipant = df[['DR1_020', 'DR1ICARB']].copy()"
   ]
  },
  {
   "cell_type": "code",
   "execution_count": 5,
   "metadata": {},
   "outputs": [
    {
     "data": {
      "text/html": [
       "<div>\n",
       "<style scoped>\n",
       "    .dataframe tbody tr th:only-of-type {\n",
       "        vertical-align: middle;\n",
       "    }\n",
       "\n",
       "    .dataframe tbody tr th {\n",
       "        vertical-align: top;\n",
       "    }\n",
       "\n",
       "    .dataframe thead th {\n",
       "        text-align: right;\n",
       "    }\n",
       "</style>\n",
       "<table border=\"1\" class=\"dataframe\">\n",
       "  <thead>\n",
       "    <tr style=\"text-align: right;\">\n",
       "      <th></th>\n",
       "      <th>DR1_020</th>\n",
       "      <th>DR1ICARB</th>\n",
       "    </tr>\n",
       "  </thead>\n",
       "  <tbody>\n",
       "    <tr>\n",
       "      <th>0</th>\n",
       "      <td>27000.0</td>\n",
       "      <td>5.397605e-79</td>\n",
       "    </tr>\n",
       "    <tr>\n",
       "      <th>1</th>\n",
       "      <td>27000.0</td>\n",
       "      <td>3.560000e+00</td>\n",
       "    </tr>\n",
       "    <tr>\n",
       "      <th>2</th>\n",
       "      <td>27000.0</td>\n",
       "      <td>2.320000e+00</td>\n",
       "    </tr>\n",
       "    <tr>\n",
       "      <th>3</th>\n",
       "      <td>28800.0</td>\n",
       "      <td>5.397605e-79</td>\n",
       "    </tr>\n",
       "    <tr>\n",
       "      <th>4</th>\n",
       "      <td>32400.0</td>\n",
       "      <td>4.088000e+01</td>\n",
       "    </tr>\n",
       "    <tr>\n",
       "      <th>5</th>\n",
       "      <td>32400.0</td>\n",
       "      <td>2.500000e-01</td>\n",
       "    </tr>\n",
       "    <tr>\n",
       "      <th>6</th>\n",
       "      <td>41400.0</td>\n",
       "      <td>1.740000e+00</td>\n",
       "    </tr>\n",
       "    <tr>\n",
       "      <th>7</th>\n",
       "      <td>45000.0</td>\n",
       "      <td>4.867000e+01</td>\n",
       "    </tr>\n",
       "    <tr>\n",
       "      <th>8</th>\n",
       "      <td>45000.0</td>\n",
       "      <td>1.170000e+00</td>\n",
       "    </tr>\n",
       "    <tr>\n",
       "      <th>9</th>\n",
       "      <td>45000.0</td>\n",
       "      <td>2.740000e+00</td>\n",
       "    </tr>\n",
       "    <tr>\n",
       "      <th>10</th>\n",
       "      <td>45000.0</td>\n",
       "      <td>5.397605e-79</td>\n",
       "    </tr>\n",
       "    <tr>\n",
       "      <th>11</th>\n",
       "      <td>64800.0</td>\n",
       "      <td>1.330000e+00</td>\n",
       "    </tr>\n",
       "    <tr>\n",
       "      <th>12</th>\n",
       "      <td>64800.0</td>\n",
       "      <td>8.460000e+00</td>\n",
       "    </tr>\n",
       "    <tr>\n",
       "      <th>13</th>\n",
       "      <td>64800.0</td>\n",
       "      <td>5.397605e-79</td>\n",
       "    </tr>\n",
       "    <tr>\n",
       "      <th>14</th>\n",
       "      <td>64800.0</td>\n",
       "      <td>5.961000e+01</td>\n",
       "    </tr>\n",
       "    <tr>\n",
       "      <th>16</th>\n",
       "      <td>75600.0</td>\n",
       "      <td>2.256000e+01</td>\n",
       "    </tr>\n",
       "  </tbody>\n",
       "</table>\n",
       "</div>"
      ],
      "text/plain": [
       "    DR1_020      DR1ICARB\n",
       "0   27000.0  5.397605e-79\n",
       "1   27000.0  3.560000e+00\n",
       "2   27000.0  2.320000e+00\n",
       "3   28800.0  5.397605e-79\n",
       "4   32400.0  4.088000e+01\n",
       "5   32400.0  2.500000e-01\n",
       "6   41400.0  1.740000e+00\n",
       "7   45000.0  4.867000e+01\n",
       "8   45000.0  1.170000e+00\n",
       "9   45000.0  2.740000e+00\n",
       "10  45000.0  5.397605e-79\n",
       "11  64800.0  1.330000e+00\n",
       "12  64800.0  8.460000e+00\n",
       "13  64800.0  5.397605e-79\n",
       "14  64800.0  5.961000e+01\n",
       "16  75600.0  2.256000e+01"
      ]
     },
     "execution_count": 5,
     "metadata": {},
     "output_type": "execute_result"
    }
   ],
   "source": [
    "oneparticipant"
   ]
  },
  {
   "cell_type": "code",
   "execution_count": 6,
   "metadata": {},
   "outputs": [
    {
     "data": {
      "text/plain": [
       "[<matplotlib.lines.Line2D at 0x7fd6f4b0cf28>]"
      ]
     },
     "execution_count": 6,
     "metadata": {},
     "output_type": "execute_result"
    },
    {
     "data": {
      "image/png": "[encoded data removed]",
      "text/plain": [
       "<Figure size 432x288 with 1 Axes>"
      ]
     },
     "metadata": {
      "needs_background": "light"
     },
     "output_type": "display_data"
    }
   ],
   "source": [
    "plt.plot(oneparticipant['DR1_020'], oneparticipant['DR1ICARB'])"
   ]
  },
  {
   "cell_type": "code",
   "execution_count": 7,
   "metadata": {},
   "outputs": [],
   "source": [
    "#plt.scatter(oneparticipant['DR1_020'], oneparticipant['DR1ICARB'])"
   ]
  },
  {
   "cell_type": "code",
   "execution_count": 8,
   "metadata": {
    "scrolled": true
   },
   "outputs": [
    {
     "data": {
      "text/html": [
       "<div>\n",
       "<style scoped>\n",
       "    .dataframe tbody tr th:only-of-type {\n",
       "        vertical-align: middle;\n",
       "    }\n",
       "\n",
       "    .dataframe tbody tr th {\n",
       "        vertical-align: top;\n",
       "    }\n",
       "\n",
       "    .dataframe thead th {\n",
       "        text-align: right;\n",
       "    }\n",
       "</style>\n",
       "<table border=\"1\" class=\"dataframe\">\n",
       "  <thead>\n",
       "    <tr style=\"text-align: right;\">\n",
       "      <th></th>\n",
       "      <th>DR1_020</th>\n",
       "      <th>DR1ICARB</th>\n",
       "    </tr>\n",
       "  </thead>\n",
       "  <tbody>\n",
       "    <tr>\n",
       "      <th>0</th>\n",
       "      <td>0.0</td>\n",
       "      <td>0.000000e+00</td>\n",
       "    </tr>\n",
       "    <tr>\n",
       "      <th>1</th>\n",
       "      <td>27000.0</td>\n",
       "      <td>5.397605e-79</td>\n",
       "    </tr>\n",
       "    <tr>\n",
       "      <th>2</th>\n",
       "      <td>27000.0</td>\n",
       "      <td>3.560000e+00</td>\n",
       "    </tr>\n",
       "    <tr>\n",
       "      <th>3</th>\n",
       "      <td>27000.0</td>\n",
       "      <td>2.320000e+00</td>\n",
       "    </tr>\n",
       "    <tr>\n",
       "      <th>4</th>\n",
       "      <td>28800.0</td>\n",
       "      <td>5.397605e-79</td>\n",
       "    </tr>\n",
       "    <tr>\n",
       "      <th>5</th>\n",
       "      <td>32400.0</td>\n",
       "      <td>4.088000e+01</td>\n",
       "    </tr>\n",
       "    <tr>\n",
       "      <th>6</th>\n",
       "      <td>32400.0</td>\n",
       "      <td>2.500000e-01</td>\n",
       "    </tr>\n",
       "    <tr>\n",
       "      <th>7</th>\n",
       "      <td>41400.0</td>\n",
       "      <td>1.740000e+00</td>\n",
       "    </tr>\n",
       "    <tr>\n",
       "      <th>8</th>\n",
       "      <td>45000.0</td>\n",
       "      <td>4.867000e+01</td>\n",
       "    </tr>\n",
       "    <tr>\n",
       "      <th>9</th>\n",
       "      <td>45000.0</td>\n",
       "      <td>1.170000e+00</td>\n",
       "    </tr>\n",
       "    <tr>\n",
       "      <th>10</th>\n",
       "      <td>45000.0</td>\n",
       "      <td>2.740000e+00</td>\n",
       "    </tr>\n",
       "    <tr>\n",
       "      <th>11</th>\n",
       "      <td>45000.0</td>\n",
       "      <td>5.397605e-79</td>\n",
       "    </tr>\n",
       "    <tr>\n",
       "      <th>12</th>\n",
       "      <td>64800.0</td>\n",
       "      <td>1.330000e+00</td>\n",
       "    </tr>\n",
       "    <tr>\n",
       "      <th>13</th>\n",
       "      <td>64800.0</td>\n",
       "      <td>8.460000e+00</td>\n",
       "    </tr>\n",
       "    <tr>\n",
       "      <th>14</th>\n",
       "      <td>64800.0</td>\n",
       "      <td>5.397605e-79</td>\n",
       "    </tr>\n",
       "    <tr>\n",
       "      <th>15</th>\n",
       "      <td>64800.0</td>\n",
       "      <td>5.961000e+01</td>\n",
       "    </tr>\n",
       "    <tr>\n",
       "      <th>16</th>\n",
       "      <td>75600.0</td>\n",
       "      <td>2.256000e+01</td>\n",
       "    </tr>\n",
       "  </tbody>\n",
       "</table>\n",
       "</div>"
      ],
      "text/plain": [
       "    DR1_020      DR1ICARB\n",
       "0       0.0  0.000000e+00\n",
       "1   27000.0  5.397605e-79\n",
       "2   27000.0  3.560000e+00\n",
       "3   27000.0  2.320000e+00\n",
       "4   28800.0  5.397605e-79\n",
       "5   32400.0  4.088000e+01\n",
       "6   32400.0  2.500000e-01\n",
       "7   41400.0  1.740000e+00\n",
       "8   45000.0  4.867000e+01\n",
       "9   45000.0  1.170000e+00\n",
       "10  45000.0  2.740000e+00\n",
       "11  45000.0  5.397605e-79\n",
       "12  64800.0  1.330000e+00\n",
       "13  64800.0  8.460000e+00\n",
       "14  64800.0  5.397605e-79\n",
       "15  64800.0  5.961000e+01\n",
       "16  75600.0  2.256000e+01"
      ]
     },
     "execution_count": 8,
     "metadata": {},
     "output_type": "execute_result"
    }
   ],
   "source": [
    "first_row = pd.DataFrame({'DR1_020': 0,\n",
    "                        'DR1ICARB': 0}, index =[0]) \n",
    "oneparticipant = pd.concat([first_row, oneparticipant]).reset_index(drop = True) \n",
    "oneparticipant"
   ]
  },
  {
   "cell_type": "code",
   "execution_count": 9,
   "metadata": {},
   "outputs": [],
   "source": [
    "oneparticipant = oneparticipant.append({'DR1_020': 0,\n",
    "                                        'DR1ICARB': 0} , ignore_index=True)"
   ]
  },
  {
   "cell_type": "code",
   "execution_count": 10,
   "metadata": {},
   "outputs": [
    {
     "data": {
      "text/html": [
       "<div>\n",
       "<style scoped>\n",
       "    .dataframe tbody tr th:only-of-type {\n",
       "        vertical-align: middle;\n",
       "    }\n",
       "\n",
       "    .dataframe tbody tr th {\n",
       "        vertical-align: top;\n",
       "    }\n",
       "\n",
       "    .dataframe thead th {\n",
       "        text-align: right;\n",
       "    }\n",
       "</style>\n",
       "<table border=\"1\" class=\"dataframe\">\n",
       "  <thead>\n",
       "    <tr style=\"text-align: right;\">\n",
       "      <th></th>\n",
       "      <th>DR1_020</th>\n",
       "      <th>DR1ICARB</th>\n",
       "    </tr>\n",
       "  </thead>\n",
       "  <tbody>\n",
       "    <tr>\n",
       "      <th>0</th>\n",
       "      <td>0.0</td>\n",
       "      <td>0.000000e+00</td>\n",
       "    </tr>\n",
       "    <tr>\n",
       "      <th>1</th>\n",
       "      <td>27000.0</td>\n",
       "      <td>5.397605e-79</td>\n",
       "    </tr>\n",
       "    <tr>\n",
       "      <th>2</th>\n",
       "      <td>27000.0</td>\n",
       "      <td>3.560000e+00</td>\n",
       "    </tr>\n",
       "    <tr>\n",
       "      <th>3</th>\n",
       "      <td>27000.0</td>\n",
       "      <td>2.320000e+00</td>\n",
       "    </tr>\n",
       "    <tr>\n",
       "      <th>4</th>\n",
       "      <td>28800.0</td>\n",
       "      <td>5.397605e-79</td>\n",
       "    </tr>\n",
       "    <tr>\n",
       "      <th>5</th>\n",
       "      <td>32400.0</td>\n",
       "      <td>4.088000e+01</td>\n",
       "    </tr>\n",
       "    <tr>\n",
       "      <th>6</th>\n",
       "      <td>32400.0</td>\n",
       "      <td>2.500000e-01</td>\n",
       "    </tr>\n",
       "    <tr>\n",
       "      <th>7</th>\n",
       "      <td>41400.0</td>\n",
       "      <td>1.740000e+00</td>\n",
       "    </tr>\n",
       "    <tr>\n",
       "      <th>8</th>\n",
       "      <td>45000.0</td>\n",
       "      <td>4.867000e+01</td>\n",
       "    </tr>\n",
       "    <tr>\n",
       "      <th>9</th>\n",
       "      <td>45000.0</td>\n",
       "      <td>1.170000e+00</td>\n",
       "    </tr>\n",
       "    <tr>\n",
       "      <th>10</th>\n",
       "      <td>45000.0</td>\n",
       "      <td>2.740000e+00</td>\n",
       "    </tr>\n",
       "    <tr>\n",
       "      <th>11</th>\n",
       "      <td>45000.0</td>\n",
       "      <td>5.397605e-79</td>\n",
       "    </tr>\n",
       "    <tr>\n",
       "      <th>12</th>\n",
       "      <td>64800.0</td>\n",
       "      <td>1.330000e+00</td>\n",
       "    </tr>\n",
       "    <tr>\n",
       "      <th>13</th>\n",
       "      <td>64800.0</td>\n",
       "      <td>8.460000e+00</td>\n",
       "    </tr>\n",
       "    <tr>\n",
       "      <th>14</th>\n",
       "      <td>64800.0</td>\n",
       "      <td>5.397605e-79</td>\n",
       "    </tr>\n",
       "    <tr>\n",
       "      <th>15</th>\n",
       "      <td>64800.0</td>\n",
       "      <td>5.961000e+01</td>\n",
       "    </tr>\n",
       "    <tr>\n",
       "      <th>16</th>\n",
       "      <td>75600.0</td>\n",
       "      <td>2.256000e+01</td>\n",
       "    </tr>\n",
       "    <tr>\n",
       "      <th>17</th>\n",
       "      <td>0.0</td>\n",
       "      <td>0.000000e+00</td>\n",
       "    </tr>\n",
       "  </tbody>\n",
       "</table>\n",
       "</div>"
      ],
      "text/plain": [
       "    DR1_020      DR1ICARB\n",
       "0       0.0  0.000000e+00\n",
       "1   27000.0  5.397605e-79\n",
       "2   27000.0  3.560000e+00\n",
       "3   27000.0  2.320000e+00\n",
       "4   28800.0  5.397605e-79\n",
       "5   32400.0  4.088000e+01\n",
       "6   32400.0  2.500000e-01\n",
       "7   41400.0  1.740000e+00\n",
       "8   45000.0  4.867000e+01\n",
       "9   45000.0  1.170000e+00\n",
       "10  45000.0  2.740000e+00\n",
       "11  45000.0  5.397605e-79\n",
       "12  64800.0  1.330000e+00\n",
       "13  64800.0  8.460000e+00\n",
       "14  64800.0  5.397605e-79\n",
       "15  64800.0  5.961000e+01\n",
       "16  75600.0  2.256000e+01\n",
       "17      0.0  0.000000e+00"
      ]
     },
     "execution_count": 10,
     "metadata": {},
     "output_type": "execute_result"
    }
   ],
   "source": [
    "oneparticipant"
   ]
  },
  {
   "cell_type": "code",
   "execution_count": 11,
   "metadata": {},
   "outputs": [],
   "source": [
    "X = np.array(oneparticipant[0:(len(oneparticipant)-1)])"
   ]
  },
  {
   "cell_type": "code",
   "execution_count": 12,
   "metadata": {},
   "outputs": [
    {
     "data": {
      "text/plain": [
       "array([[0.00000000e+00, 0.00000000e+00],\n",
       "       [2.70000000e+04, 5.39760535e-79],\n",
       "       [2.70000000e+04, 3.56000000e+00],\n",
       "       [2.70000000e+04, 2.32000000e+00],\n",
       "       [2.88000000e+04, 5.39760535e-79],\n",
       "       [3.24000000e+04, 4.08800000e+01],\n",
       "       [3.24000000e+04, 2.50000000e-01],\n",
       "       [4.14000000e+04, 1.74000000e+00],\n",
       "       [4.50000000e+04, 4.86700000e+01],\n",
       "       [4.50000000e+04, 1.17000000e+00],\n",
       "       [4.50000000e+04, 2.74000000e+00],\n",
       "       [4.50000000e+04, 5.39760535e-79],\n",
       "       [6.48000000e+04, 1.33000000e+00],\n",
       "       [6.48000000e+04, 8.46000000e+00],\n",
       "       [6.48000000e+04, 5.39760535e-79],\n",
       "       [6.48000000e+04, 5.96100000e+01],\n",
       "       [7.56000000e+04, 2.25600000e+01]])"
      ]
     },
     "execution_count": 12,
     "metadata": {},
     "output_type": "execute_result"
    }
   ],
   "source": [
    "X"
   ]
  },
  {
   "cell_type": "code",
   "execution_count": 13,
   "metadata": {},
   "outputs": [],
   "source": [
    "y = np.array(oneparticipant[1:(len(oneparticipant))])"
   ]
  },
  {
   "cell_type": "code",
   "execution_count": 14,
   "metadata": {},
   "outputs": [
    {
     "data": {
      "text/plain": [
       "array([[2.70000000e+04, 5.39760535e-79],\n",
       "       [2.70000000e+04, 3.56000000e+00],\n",
       "       [2.70000000e+04, 2.32000000e+00],\n",
       "       [2.88000000e+04, 5.39760535e-79],\n",
       "       [3.24000000e+04, 4.08800000e+01],\n",
       "       [3.24000000e+04, 2.50000000e-01],\n",
       "       [4.14000000e+04, 1.74000000e+00],\n",
       "       [4.50000000e+04, 4.86700000e+01],\n",
       "       [4.50000000e+04, 1.17000000e+00],\n",
       "       [4.50000000e+04, 2.74000000e+00],\n",
       "       [4.50000000e+04, 5.39760535e-79],\n",
       "       [6.48000000e+04, 1.33000000e+00],\n",
       "       [6.48000000e+04, 8.46000000e+00],\n",
       "       [6.48000000e+04, 5.39760535e-79],\n",
       "       [6.48000000e+04, 5.96100000e+01],\n",
       "       [7.56000000e+04, 2.25600000e+01],\n",
       "       [0.00000000e+00, 0.00000000e+00]])"
      ]
     },
     "execution_count": 14,
     "metadata": {},
     "output_type": "execute_result"
    }
   ],
   "source": [
    "y"
   ]
  },
  {
   "cell_type": "code",
   "execution_count": 15,
   "metadata": {},
   "outputs": [
    {
     "name": "stdout",
     "output_type": "stream",
     "text": [
      "[0. 0.]\n"
     ]
    }
   ],
   "source": [
    "print(X[0])"
   ]
  },
  {
   "cell_type": "code",
   "execution_count": 16,
   "metadata": {},
   "outputs": [
    {
     "name": "stdout",
     "output_type": "stream",
     "text": [
      "[2.70000000e+04 5.39760535e-79]\n"
     ]
    }
   ],
   "source": [
    "print(y[0])"
   ]
  },
  {
   "cell_type": "code",
   "execution_count": 17,
   "metadata": {},
   "outputs": [],
   "source": [
    "from sklearn.linear_model import LinearRegression\n",
    "lr = LinearRegression().fit(X,y)\n",
    "#print(lr.score(X_train, y_train)*100)"
   ]
  },
  {
   "cell_type": "code",
   "execution_count": 18,
   "metadata": {},
   "outputs": [
    {
     "data": {
      "text/plain": [
       "0.1713281341858678"
      ]
     },
     "execution_count": 18,
     "metadata": {},
     "output_type": "execute_result"
    }
   ],
   "source": [
    "lr.score(X,y)"
   ]
  },
  {
   "cell_type": "code",
   "execution_count": null,
   "metadata": {},
   "outputs": [],
   "source": []
  }
 ],
 "metadata": {
  "kernelspec": {
   "display_name": "Python 3",
   "language": "python",
   "name": "python3"
  },
  "language_info": {
   "codemirror_mode": {
    "name": "ipython",
    "version": 3
   },
   "file_extension": ".py",
   "mimetype": "text/x-python",
   "name": "python",
   "nbconvert_exporter": "python",
   "pygments_lexer": "ipython3",
   "version": "3.7.0"
  }
 },
 "nbformat": 4,
 "nbformat_minor": 2
}
